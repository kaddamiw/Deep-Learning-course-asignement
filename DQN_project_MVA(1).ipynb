{
  "nbformat": 4,
  "nbformat_minor": 0,
  "metadata": {
    "kernelspec": {
      "name": "python3",
      "display_name": "Python 3"
    },
    "language_info": {
      "codemirror_mode": {
        "name": "ipython",
        "version": 3
      },
      "file_extension": ".py",
      "mimetype": "text/x-python",
      "name": "python",
      "nbconvert_exporter": "python",
      "pygments_lexer": "ipython3",
      "version": "3.5.7"
    },
    "colab": {
      "name": "DQN_project_MVA.ipynb",
      "provenance": [],
      "collapsed_sections": []
    },
    "accelerator": "GPU"
  },
  "cells": [
    {
      "cell_type": "markdown",
      "metadata": {
        "id": "MC0n9jT4MvH3",
        "colab_type": "text"
      },
      "source": [
        "**You may need to install [OpenCV](https://pypi.python.org/pypi/opencv-python) and [scikit-video](http://www.scikit-video.org/stable/).**"
      ]
    },
    {
      "cell_type": "code",
      "metadata": {
        "id": "MVvDbj4YM3-V",
        "colab_type": "code",
        "outputId": "3c5e321f-8f7f-4294-ad58-11e57e1b9e05",
        "colab": {
          "base_uri": "https://localhost:8080/",
          "height": 90
        }
      },
      "source": [
        "!sudo pip install scikit-video"
      ],
      "execution_count": 27,
      "outputs": [
        {
          "output_type": "stream",
          "text": [
            "Requirement already satisfied: scikit-video in /usr/local/lib/python3.6/dist-packages (1.1.11)\n",
            "Requirement already satisfied: numpy in /usr/local/lib/python3.6/dist-packages (from scikit-video) (1.17.5)\n",
            "Requirement already satisfied: scipy in /usr/local/lib/python3.6/dist-packages (from scikit-video) (1.4.1)\n",
            "Requirement already satisfied: pillow in /usr/local/lib/python3.6/dist-packages (from scikit-video) (6.2.2)\n"
          ],
          "name": "stdout"
        }
      ]
    },
    {
      "cell_type": "code",
      "metadata": {
        "id": "Q5ExulvRMvH-",
        "colab_type": "code",
        "colab": {}
      },
      "source": [
        "import keras\n",
        "import numpy as np\n",
        "import io\n",
        "import base64\n",
        "from IPython.display import HTML\n",
        "import skvideo.io\n",
        "import cv2\n",
        "import json\n",
        "\n",
        "from keras.models import Sequential,model_from_json\n",
        "from keras.layers.core import  Dense\n",
        "from keras.layers import Dense, Flatten\n",
        "from keras.optimizers import sgd\n",
        "from keras.layers import Conv2D, MaxPooling2D, Activation, AveragePooling2D,Reshape,BatchNormalization"
      ],
      "execution_count": 0,
      "outputs": []
    },
    {
      "cell_type": "markdown",
      "metadata": {
        "id": "ebErT8P9MvIQ",
        "colab_type": "text"
      },
      "source": [
        "# MiniProject on Deep Reinforcement Learning"
      ]
    },
    {
      "cell_type": "markdown",
      "metadata": {
        "id": "F85oGY8RMvIU",
        "colab_type": "text"
      },
      "source": [
        "__Notations__: $E_p$ is the expectation under probability $p$. Please justify each of your answer and widely comment your code."
      ]
    },
    {
      "cell_type": "markdown",
      "metadata": {
        "id": "tt5lHUBmMvIX",
        "colab_type": "text"
      },
      "source": [
        "# Context"
      ]
    },
    {
      "cell_type": "markdown",
      "metadata": {
        "id": "5eJfDQoiMvIc",
        "colab_type": "text"
      },
      "source": [
        "In a reinforcement learning algorithm, we modelize each step $t$ as an action $a_t$ obtained from a state $s_t$, i.e. $\\{(a_{t},s_{t})_{t\\leq T}\\}$ having the Markov property. We consider a discount factor $\\gamma \\in [0,1]$ that ensures convergence. The goal is to find among all the policies $\\pi$, one that maximizes the expected reward:\n",
        "\n",
        "\\begin{equation*}\n",
        "R(\\pi)=\\sum_{t\\leq T}E_{p^{\\pi}}[\\gamma^t r(s_{t},a_{t})] \\> ,\n",
        "\\end{equation*}\n",
        "\n",
        "where: \n",
        "\\begin{equation*}p^{\\pi}(a_{0},a_{1},s_{1},...,a_{T},s_{T})=p(a_{0})\\prod_{t=1}^{T}\\pi(a_{t}|s_{t})p(s_{t+1}|s_{t},a_{t}) \\> .\n",
        "\\end{equation*}\n",
        "\n",
        "We note the $Q$-function:\n",
        "\n",
        "\\begin{equation*}Q^\\pi(s,a)=E_{p^{\\pi}}[\\sum_{t\\leq T}\\gamma^{t}r(s_{t},a_{t})|s_{0}=s,a_{0}=a] \\> .\n",
        "\\end{equation*}\n",
        "\n",
        "Thus, the optimal Q function is:\n",
        "\\begin{equation*}\n",
        "Q^*(s,a)=\\max_{\\pi}Q^\\pi(s,a) \\> .\n",
        "\\end{equation*}\n",
        "\n",
        "In this project, we will apply the deep reinforcement learning techniques to a simple game: an agent will have to learn from scratch a policy that will permit it maximizing a reward."
      ]
    },
    {
      "cell_type": "markdown",
      "metadata": {
        "id": "uNpMy7lBMvIf",
        "colab_type": "text"
      },
      "source": [
        "## The environment, the agent and the game"
      ]
    },
    {
      "cell_type": "markdown",
      "metadata": {
        "id": "h_1nvROIMvIh",
        "colab_type": "text"
      },
      "source": [
        "### The environment"
      ]
    },
    {
      "cell_type": "markdown",
      "metadata": {
        "id": "OeizG7kdMvIm",
        "colab_type": "text"
      },
      "source": [
        "```Environment``` is an abstract class that represents the states, rewards, and actions to obtain the new state."
      ]
    },
    {
      "cell_type": "code",
      "metadata": {
        "id": "QSn7f-uRMvIu",
        "colab_type": "code",
        "colab": {}
      },
      "source": [
        "class Environment(object):\n",
        "    def __init__(self):\n",
        "        pass\n",
        "\n",
        "    def act(self, act):\n",
        "        \"\"\"\n",
        "        One can act on the environment and obtain its reaction:\n",
        "        - the new state\n",
        "        - the reward of the new state\n",
        "        - should we continue the game?\n",
        "\n",
        "        :return: state, reward, game_over\n",
        "        \"\"\"\n",
        "        pass\n",
        "\n",
        "\n",
        "    def reset(self):\n",
        "        \"\"\"\n",
        "        Reinitialize the environment to a random state and returns\n",
        "        the original state\n",
        "\n",
        "        :return: state\n",
        "        \"\"\"\n",
        "        pass\n",
        "    \n",
        "    def draw(self):\n",
        "        \"\"\"\n",
        "        Visualize in the console or graphically the current state\n",
        "        \"\"\"\n",
        "        pass"
      ],
      "execution_count": 0,
      "outputs": []
    },
    {
      "cell_type": "markdown",
      "metadata": {
        "id": "LH0XyAvcMvI6",
        "colab_type": "text"
      },
      "source": [
        "The method ```act``` allows to act on the environment at a given state $s_t$ (stored internally), via action $a_t$. The method will return the new state $s_{t+1}$, the reward $r(s_{t},a_{t})$ and determines if $t\\leq T$ (*game_over*).\n",
        "\n",
        "The method ```reset``` simply reinitializes the environment to a random state $s_0$.\n",
        "\n",
        "The method ```draw``` displays the current state $s_t$ (this is useful to check the behavior of the Agent).\n",
        "\n",
        "We modelize $s_t$ as a tensor, while $a_t$ is an integer."
      ]
    },
    {
      "cell_type": "markdown",
      "metadata": {
        "id": "-guPWnR1MvI-",
        "colab_type": "text"
      },
      "source": [
        "### The Agent"
      ]
    },
    {
      "cell_type": "markdown",
      "metadata": {
        "id": "uE9g382VMvJB",
        "colab_type": "text"
      },
      "source": [
        "The goal of the ```Agent``` is to interact with the ```Environment``` by proposing actions $a_t$ obtained from a given state $s_t$ to attempt to maximize its __reward__ $r(s_t,a_t)$. We propose the following abstract class:"
      ]
    },
    {
      "cell_type": "code",
      "metadata": {
        "id": "tb6gLsAqMvJD",
        "colab_type": "code",
        "colab": {}
      },
      "source": [
        "class Agent(object):\n",
        "    def __init__(self, epsilon=0.1, n_action=4):\n",
        "        self.epsilon = epsilon\n",
        "        self.n_action = n_action\n",
        "    \n",
        "    def set_epsilon(self,e):\n",
        "        self.epsilon = e\n",
        "\n",
        "    def act(self,s,train=True):\n",
        "        \"\"\" This function should return the next action to do:\n",
        "        an integer between 0 and 4 (not included) with a random exploration of epsilon\"\"\"\n",
        "        if train:\n",
        "            if np.random.rand() <= self.epsilon:\n",
        "                a = np.random.randint(0, self.n_action, size=1)[0]\n",
        "            else:\n",
        "                a = self.learned_act(s)\n",
        "        else: # in some cases, this can improve the performance.. remove it if poor performances\n",
        "            a = self.learned_act(s)\n",
        "\n",
        "        return a\n",
        "\n",
        "    def learned_act(self,s):\n",
        "        \"\"\" Act via the policy of the agent, from a given state s\n",
        "        it proposes an action a\"\"\"\n",
        "        pass\n",
        "\n",
        "    def reinforce(self, s, n_s, a, r, game_over_):\n",
        "        \"\"\" This function is the core of the learning algorithm. \n",
        "        It takes as an input the current state s_, the next state n_s_\n",
        "        the action a_ used to move from s_ to n_s_ and the reward r_.\n",
        "        \n",
        "        Its goal is to learn a policy.\n",
        "        \"\"\"\n",
        "        pass\n",
        "\n",
        "    def save(self):\n",
        "        \"\"\" This function returns basic stats if applicable: the\n",
        "        loss and/or the model\"\"\"\n",
        "        pass\n",
        "\n",
        "    def load(self):\n",
        "        \"\"\" This function allows to restore a model\"\"\"\n",
        "        pass"
      ],
      "execution_count": 0,
      "outputs": []
    },
    {
      "cell_type": "markdown",
      "metadata": {
        "id": "NXmMRVymMvJK",
        "colab_type": "text"
      },
      "source": [
        "***\n",
        "__Question 1__:\n",
        "Explain the function act. Why is ```epsilon``` essential?"
      ]
    },
    {
      "cell_type": "markdown",
      "metadata": {
        "id": "nRFiG4tsMvJM",
        "colab_type": "text"
      },
      "source": [
        "The goal of the function act is to choose an action $\\mathbf{a}$ given a given a state $\\mathbf{s}$. \n",
        "\n",
        "\n",
        "During the training, with probability epsilon, the action is chosen randomly, and with probability (1-epsilon) it is chosen with respect to the returns we already had in the past. \n",
        "$$a = argmax_a Q(s,a)$$ \n",
        "\n",
        "epsilon is essential because it enables the exploration of all the possible actions during training. And to avoid being stuck in one action due to misestimation of the value function \n",
        "\n"
      ]
    },
    {
      "cell_type": "markdown",
      "metadata": {
        "id": "JE8da1fZMvJP",
        "colab_type": "text"
      },
      "source": [
        "***\n",
        "### The Game"
      ]
    },
    {
      "cell_type": "markdown",
      "metadata": {
        "id": "t3kyJEBUMvJS",
        "colab_type": "text"
      },
      "source": [
        "The ```Agent``` and the ```Environment``` work in an interlaced way as in the following (take some time to understand this code as it is the core of the project)\n",
        "\n",
        "```python\n",
        "\n",
        "epoch = 300\n",
        "env = Environment()\n",
        "agent = Agent()\n",
        "\n",
        "\n",
        "# Number of won games\n",
        "score = 0\n",
        "loss = 0\n",
        "\n",
        "\n",
        "for e in range(epoch):\n",
        "    # At each epoch, we restart to a fresh game and get the initial state\n",
        "    state = env.reset()\n",
        "    # This assumes that the games will end\n",
        "    game_over = False\n",
        "\n",
        "    win = 0\n",
        "    lose = 0\n",
        "    \n",
        "    while not game_over:\n",
        "        # The agent performs an action\n",
        "        action = agent.act(state)\n",
        "\n",
        "        # Apply an action to the environment, get the next state, the reward\n",
        "        # and if the games end\n",
        "        prev_state = state\n",
        "        state, reward, game_over = env.act(action)\n",
        "\n",
        "        # Update the counters\n",
        "        if reward > 0:\n",
        "            win = win + reward\n",
        "        if reward < 0:\n",
        "            lose = lose -reward\n",
        "\n",
        "        # Apply the reinforcement strategy\n",
        "        loss = agent.reinforce(prev_state, state,  action, reward, game_over)\n",
        "\n",
        "    # Save as a mp4\n",
        "    if e % 10 == 0:\n",
        "        env.draw(e)\n",
        "\n",
        "    # Update stats\n",
        "    score += win-lose\n",
        "\n",
        "    print(\"Epoch {:03d}/{:03d} | Loss {:.4f} | Win/lose count {}/{} ({})\"\n",
        "          .format(e, epoch, loss, win, lose, win-lose))\n",
        "    agent.save()\n",
        "```"
      ]
    },
    {
      "cell_type": "markdown",
      "metadata": {
        "id": "QzPX2KQzMvJU",
        "colab_type": "text"
      },
      "source": [
        "# The game, *eat cheese*"
      ]
    },
    {
      "cell_type": "markdown",
      "metadata": {
        "id": "EUdgtNAKMvJW",
        "colab_type": "text"
      },
      "source": [
        "A rat runs on an island and tries to eat as much as possible. The island is subdivided into $N\\times N$ cells, in which there are cheese (+0.5) and poisonous cells (-1). The rat has a visibility of 2 cells (thus it can see $5^2$ cells). The rat is given a time $T$ to accumulate as much food as possible. It can perform 4 actions: going up, down, left, right. \n",
        "\n",
        "The goal is to code an agent to solve this task that will learn by trial and error. We propose the following environment:"
      ]
    },
    {
      "cell_type": "code",
      "metadata": {
        "id": "Eo9srOhIMvJY",
        "colab_type": "code",
        "colab": {}
      },
      "source": [
        "class Environment(object):\n",
        "    def __init__(self, grid_size=10, max_time=500, temperature=0.1):\n",
        "        grid_size = grid_size+4\n",
        "        self.grid_size = grid_size\n",
        "        self.max_time = max_time\n",
        "        self.temperature = temperature\n",
        "\n",
        "        #board on which one plays\n",
        "        self.board = np.zeros((grid_size,grid_size))\n",
        "        self.position = np.zeros((grid_size,grid_size))\n",
        "\n",
        "        # coordinate of the cat\n",
        "        self.x = 0\n",
        "        self.y = 1\n",
        "\n",
        "        # self time\n",
        "        self.t = 0\n",
        "\n",
        "        self.scale=16\n",
        "\n",
        "        self.to_draw = np.zeros((max_time+2, grid_size*self.scale, grid_size*self.scale, 3))\n",
        "\n",
        "\n",
        "    def draw(self,e):\n",
        "        skvideo.io.vwrite(str(e) + '.mp4', self.to_draw)\n",
        "\n",
        "    def get_frame(self,t):\n",
        "        b = np.zeros((self.grid_size,self.grid_size,3))+128\n",
        "        b[self.board>0,0] = 256\n",
        "        b[self.board < 0, 2] = 256\n",
        "        b[self.x,self.y,:]=256\n",
        "        b[-2:,:,:]=0\n",
        "        b[:,-2:,:]=0\n",
        "        b[:2,:,:]=0\n",
        "        b[:,:2,:]=0\n",
        "        \n",
        "        b =  cv2.resize(b, None, fx=self.scale, fy=self.scale, interpolation=cv2.INTER_NEAREST)\n",
        "\n",
        "        self.to_draw[t,:,:,:]=b\n",
        "\n",
        "\n",
        "    def act(self, action):\n",
        "        \"\"\"This function returns the new state, reward and decides if the\n",
        "        game ends.\"\"\"\n",
        "\n",
        "        self.get_frame(int(self.t))\n",
        "\n",
        "        self.position = np.zeros((self.grid_size, self.grid_size))\n",
        "\n",
        "        self.position[0:2,:]= -1\n",
        "        self.position[:,0:2] = -1\n",
        "        self.position[-2:, :] = -1\n",
        "        self.position[-2:, :] = -1\n",
        "\n",
        "        self.position[self.x, self.y] = 1\n",
        "        if action == 0:\n",
        "            if self.x == self.grid_size-3:\n",
        "                self.x = self.x-1\n",
        "            else:\n",
        "                self.x = self.x + 1\n",
        "        elif action == 1:\n",
        "            if self.x == 2:\n",
        "                self.x = self.x+1\n",
        "            else:\n",
        "                self.x = self.x-1\n",
        "        elif action == 2:\n",
        "            if self.y == self.grid_size - 3:\n",
        "                self.y = self.y - 1\n",
        "            else:\n",
        "                self.y = self.y + 1\n",
        "        elif action == 3:\n",
        "            if self.y == 2:\n",
        "                self.y = self.y + 1\n",
        "            else:\n",
        "                self.y = self.y - 1\n",
        "        else:\n",
        "            RuntimeError('Error: action not recognized')\n",
        "\n",
        "        self.t = self.t + 1\n",
        "        reward = self.board[self.x, self.y]\n",
        "        self.board[self.x, self.y] = 0\n",
        "        game_over = self.t > self.max_time\n",
        "        state = np.concatenate((self.board.reshape(self.grid_size, self.grid_size,1),\n",
        "                        self.position.reshape(self.grid_size, self.grid_size,1)),axis=2)\n",
        "        state = state[self.x-2:self.x+3,self.y-2:self.y+3,:]\n",
        "\n",
        "        return state, reward, game_over\n",
        "\n",
        "    def reset(self):\n",
        "        \"\"\"This function resets the game and returns the initial state\"\"\"\n",
        "\n",
        "        self.x = np.random.randint(3, self.grid_size-3, size=1)[0]\n",
        "        self.y = np.random.randint(3, self.grid_size-3, size=1)[0]\n",
        "\n",
        "\n",
        "        bonus = 0.5*np.random.binomial(1,self.temperature,size=self.grid_size**2)\n",
        "        bonus = bonus.reshape(self.grid_size,self.grid_size)\n",
        "\n",
        "        malus = -1.0*np.random.binomial(1,self.temperature,size=self.grid_size**2)\n",
        "        malus = malus.reshape(self.grid_size, self.grid_size)\n",
        "\n",
        "        self.to_draw = np.zeros((self.max_time+2, self.grid_size*self.scale, self.grid_size*self.scale, 3))\n",
        "\n",
        "\n",
        "        malus[bonus>0]=0\n",
        "\n",
        "        self.board = bonus + malus\n",
        "\n",
        "        self.position = np.zeros((self.grid_size, self.grid_size))\n",
        "        self.position[0:2,:]= -1\n",
        "        self.position[:,0:2] = -1\n",
        "        self.position[-2:, :] = -1\n",
        "        self.position[-2:, :] = -1\n",
        "        self.board[self.x,self.y] = 0\n",
        "        self.t = 0\n",
        "\n",
        "        state = np.concatenate((\n",
        "                               self.board.reshape(self.grid_size, self.grid_size,1),\n",
        "                        self.position.reshape(self.grid_size, self.grid_size,1)),axis=2)\n",
        "\n",
        "        state = state[self.x - 2:self.x + 3, self.y - 2:self.y + 3, :]\n",
        "        return state"
      ],
      "execution_count": 0,
      "outputs": []
    },
    {
      "cell_type": "markdown",
      "metadata": {
        "id": "VzveI5yvMvJh",
        "colab_type": "text"
      },
      "source": [
        "The following elements are important because they correspond to the hyper parameters for this project:"
      ]
    },
    {
      "cell_type": "code",
      "metadata": {
        "id": "PSk26OQiMvJj",
        "colab_type": "code",
        "colab": {}
      },
      "source": [
        "# parameters\n",
        "size = 13\n",
        "T=200\n",
        "temperature=0.3\n",
        "epochs_train=100 # set small when debugging\n",
        "epochs_test=20 # set small when debugging\n",
        "\n",
        "# display videos\n",
        "def display_videos(name):\n",
        "    video = io.open(name, 'r+b').read()\n",
        "    encoded = base64.b64encode(video)\n",
        "    return '''<video alt=\"test\" controls>\n",
        "                <source src=\"data:video/mp4;base64,{0}\" type=\"video/mp4\" />\n",
        "             </video>'''.format(encoded.decode('ascii'))"
      ],
      "execution_count": 0,
      "outputs": []
    },
    {
      "cell_type": "markdown",
      "metadata": {
        "id": "AWIhhksLMvJs",
        "colab_type": "text"
      },
      "source": [
        "__Question 2__ Explain the use of the arrays ```position``` and ```board```."
      ]
    },
    {
      "cell_type": "markdown",
      "metadata": {
        "id": "JtykJVdSMvJv",
        "colab_type": "text"
      },
      "source": [
        "- Board stores the reward in each pixel of the grid. Board is reset randomly using temperature hyperparameter, and is updated at each step to remove rewards where the rat is.\n",
        "\n",
        "- Position stores the rat coordinates and indicates the Boundaries by setting -1 in the area of the boundaries.\n",
        "\n",
        "Board and Position are used to retrieve the state at each time step, which enables the rat to see the bonus and malus and also the boundaries that are 2 cells far from it.\n",
        "\n",
        "\n"
      ]
    },
    {
      "cell_type": "markdown",
      "metadata": {
        "id": "c4Kktn6dMvJx",
        "colab_type": "text"
      },
      "source": [
        "## Random Agent"
      ]
    },
    {
      "cell_type": "markdown",
      "metadata": {
        "id": "_TrYSj9tMvJ0",
        "colab_type": "text"
      },
      "source": [
        "***\n",
        "__Question 3__ Implement a random Agent (only ```learned_act``` needs to be implemented):"
      ]
    },
    {
      "cell_type": "code",
      "metadata": {
        "id": "iVFiPPhtMvJ3",
        "colab_type": "code",
        "colab": {}
      },
      "source": [
        "class RandomAgent(Agent):\n",
        "    def __init__(self):\n",
        "        super(RandomAgent, self).__init__()\n",
        "        pass\n",
        "\n",
        "    def learned_act(self, s):\n",
        "        a = np.random.randint(0, self.n_action, size=1)[0]\n",
        "        return a"
      ],
      "execution_count": 0,
      "outputs": []
    },
    {
      "cell_type": "markdown",
      "metadata": {
        "id": "4zeGSoETMvJ8",
        "colab_type": "text"
      },
      "source": [
        "***\n",
        "***\n",
        "__Question 4__ Visualize the game moves. You need to fill in the following function for the evaluation:"
      ]
    },
    {
      "cell_type": "code",
      "metadata": {
        "id": "vywGRZR5MvJ-",
        "colab_type": "code",
        "colab": {}
      },
      "source": [
        "def test(agent,env,epochs,prefix=''):\n",
        "    # Number of won games\n",
        "    score = 0\n",
        "        \n",
        "    for e in range(epochs):\n",
        "        \n",
        "        ##### FILL IN HERE\n",
        "        # At each epoch, we restart to a fresh game and get the initial state\n",
        "        state = env.reset()\n",
        "        # This assumes that the games will end\n",
        "        game_over = False\n",
        "\n",
        "        win = 0\n",
        "        lose = 0\n",
        "        \n",
        "        while not game_over:\n",
        "            # The agent performs an action\n",
        "            action = agent.act(state)\n",
        "\n",
        "            # Apply an action to the environment, get the next state, the reward\n",
        "            # and if the games end\n",
        "            prev_state = state\n",
        "            state, reward, game_over = env.act(action)\n",
        "\n",
        "            # Update the counters\n",
        "            if reward > 0:\n",
        "                win = win + reward\n",
        "            if reward < 0:\n",
        "                lose = lose -reward\n",
        "\n",
        "        # Save as a mp4\n",
        "        env.draw(prefix+str(e))\n",
        "\n",
        "        # Update stats\n",
        "        score = score + win-lose\n",
        "\n",
        "        print(\"Win/lose count {}/{}. Average score ({})\"\n",
        "              .format(win, lose, score/(1+e)))\n",
        "    print('Final score: '+str(score/epochs))"
      ],
      "execution_count": 0,
      "outputs": []
    },
    {
      "cell_type": "code",
      "metadata": {
        "id": "yMnQds_9MvKF",
        "colab_type": "code",
        "outputId": "fb446e38-cadb-46bd-e2ce-176b1287f962",
        "colab": {
          "base_uri": "https://localhost:8080/",
          "height": 657
        }
      },
      "source": [
        "# Initialize the game\n",
        "env = Environment(grid_size=size, max_time=T,temperature=temperature)\n",
        "\n",
        "# Initialize the agent!\n",
        "agent = RandomAgent()\n",
        "\n",
        "test(agent,env,epochs_test,prefix='random')\n",
        "HTML(display_videos('random0.mp4'))"
      ],
      "execution_count": 0,
      "outputs": [
        {
          "output_type": "stream",
          "text": [
            "Win/lose count 8.5/17.0. Average score (-8.5)\n",
            "Win/lose count 6.0/12.0. Average score (-7.25)\n",
            "Win/lose count 11.5/12.0. Average score (-5.0)\n",
            "Win/lose count 10.5/12.0. Average score (-4.125)\n",
            "Win/lose count 7.5/8.0. Average score (-3.4)\n",
            "Win/lose count 9.0/11.0. Average score (-3.1666666666666665)\n",
            "Win/lose count 5.5/15.0. Average score (-4.071428571428571)\n",
            "Win/lose count 13.5/12.0. Average score (-3.375)\n",
            "Win/lose count 9.5/18.0. Average score (-3.9444444444444446)\n",
            "Win/lose count 6.0/16.0. Average score (-4.55)\n",
            "Win/lose count 13.5/10.0. Average score (-3.8181818181818183)\n",
            "Win/lose count 8.0/11.0. Average score (-3.75)\n",
            "Win/lose count 9.5/6.0. Average score (-3.1923076923076925)\n",
            "Win/lose count 7.5/11.0. Average score (-3.2142857142857144)\n",
            "Win/lose count 11.0/23.0. Average score (-3.8)\n",
            "Win/lose count 9.5/20.0. Average score (-4.21875)\n",
            "Win/lose count 8.5/10.0. Average score (-4.0588235294117645)\n",
            "Win/lose count 11.0/15.0. Average score (-4.055555555555555)\n",
            "Win/lose count 13.0/9.0. Average score (-3.6315789473684212)\n",
            "Win/lose count 4.5/13.0. Average score (-3.875)\n",
            "Final score: -3.875\n"
          ],
          "name": "stdout"
        },
        {
          "output_type": "execute_result",
          "data": {
            "text/html": [
              "<video alt=\"test\" controls>\n",
              "                <source src=\"data:video/mp4;base64,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\" type=\"video/mp4\" />\n",
              "             </video>"
            ],
            "text/plain": [
              "<IPython.core.display.HTML object>"
            ]
          },
          "metadata": {
            "tags": []
          },
          "execution_count": 9
        }
      ]
    },
    {
      "cell_type": "markdown",
      "metadata": {
        "id": "IfZEOClDMvKM",
        "colab_type": "text"
      },
      "source": [
        "***\n",
        "## DQN"
      ]
    },
    {
      "cell_type": "markdown",
      "metadata": {
        "id": "SS2AK7y2MvKO",
        "colab_type": "text"
      },
      "source": [
        "Let us assume here that $T=\\infty$.\n",
        "\n",
        "***\n",
        "__Question 5__ Let $\\pi$ be a policy, show that:\n",
        "\n",
        "\\begin{equation*}\n",
        "Q^{\\pi}(s,a)=E_{(s',a')\\sim p(.|s,a)}[r(s,a)+\\gamma Q^{\\pi}(s',a')]\n",
        "\\end{equation*}\n",
        "\n",
        "Then, show that for the optimal policy $\\pi^*$ (we assume its existence), the following holds: \n",
        "\n",
        "\\begin{equation*}\n",
        "Q^{*}(s,a)=E_{s'\\sim \\pi^*(.|s,a)}[r(s,a)+\\gamma\\max_{a'}Q^{*}(s',a')].\n",
        "\\end{equation*}\n",
        "Finally, deduce that a plausible objective is:\n",
        "\n",
        "\\begin{equation*}\n",
        "\\mathcal{L}(\\theta)=E_{s' \\sim \\pi^*(.|s,a)}\\Vert r+\\gamma\\max\\max_{a'}Q(s',a',\\theta)-Q(s,a,\\theta)\\Vert^{2}.\n",
        "\\end{equation*}\n",
        "\n",
        "\n"
      ]
    },
    {
      "cell_type": "markdown",
      "metadata": {
        "id": "dMs47E7rMvKR",
        "colab_type": "text"
      },
      "source": [
        " - Let's show : $Q^{\\pi}(s,a)=E_{(s',a')\\sim p(.|s,a)}[r(s,a)+\\gamma Q^{\\pi}(s',a')]$\n",
        "\n",
        "We have: \n",
        "\\begin{align*}\n",
        "Q^{\\pi}(s,a)&= E[\\sum_{t=0}^T \\gamma^t r(s_t,\\pi(s_t))|s_0=s, a_0=a] \\\\\n",
        "&= r(s,a) + E[\\sum_{t=1}^T \\gamma^t r(s_t,\\pi(s_t))|s_0=s, a_0=a] \\\\\n",
        "&= r(s,a) + \\gamma E[\\sum_{t=0}^T \\gamma^t r(s_t,\\pi(s_t))|s_0=s, a_0=a] \\\\\n",
        "&= r(s,a) + \\gamma \\sum_{s',a'}p(s_1=s',a_1=a'/s_0=s,a_0=a)E[\\sum_{t=0}^T \\gamma^t r(s_{t+1},\\pi(s_{t+1}))|s_1=s', a_1=a'] \\\\\n",
        "&= r(s,a) + \\gamma \\sum_{s',a'}p(s_1=s',a_1=a'/s,a)Q(s',a') \\\\\n",
        "&= r(s,a) + \\gamma E_{(s',a')\\sim p(.|s,a)}[Q(s',a')] \\\\\n",
        "&=E_{(s',a')\\sim p(.|s,a)}[r(s,a)+\\gamma Q^{\\pi}(s',a')].\n",
        "\\end{align*}\n",
        "\n",
        "- Let's show: $Q^{*}(s,a)=E_{s'\\sim \\p(.|s,a)}[r(s,a)+\\gamma\\max_{a'}Q^{*}(s',a')].$\n",
        "\n",
        "We have: \n",
        "\\begin{equation*}\n",
        "\\pi^*(s) = arg\\max_a Q(s,a)\n",
        "\\end{equation*}\n",
        "And \n",
        "$$Q^{*}(s,a)=E_{(s',a')\\sim p(.|s,a)}[r(s,a)+\\gamma Q^{*}(s',a')]=E_{(s'\\sim p(.|s,a)}[r(s,a)+\\gamma Q^{*}(s',\\pi^*(a'))]$$\n",
        "\n",
        "So \n",
        "$$Q^{*}(s,a)=E_{(s',a')\\sim p(.|s,a)}[r(s,a)+\\gamma \\max_{a'}(Q^{*}(s',a'))]$$\n",
        "\n",
        "- Let's consider:\n",
        "\n",
        "\\begin{equation*}\n",
        "\\mathcal{L}(\\theta)=E_{s' \\sim p(.|s,a)}\\Vert r+\\gamma\\max_{a'}Q(s',a',\\theta)-Q(s,a,\\theta)\\Vert^{2}.\n",
        "\\end{equation*}\n",
        "\n",
        "This loss attain its minimun in $\\pi^{*}$ and its minimum value is 0.\n"
      ]
    },
    {
      "cell_type": "markdown",
      "metadata": {
        "id": "WGrpHUHbMvKS",
        "colab_type": "text"
      },
      "source": [
        "***\n",
        "The DQN-learning algorithm relies on these derivations to train the parameters $\\theta$ of a Deep Neural Network:\n",
        "\n",
        "1. At the state $s_t$, select the action $a_t$ with best reward using $Q_t$ and store the results;\n",
        "\n",
        "2. Obtain the new state $s_{t+1}$ from the environment $p$;\n",
        "\n",
        "3. Store $(s_t,a_t,s_{t+1})$;\n",
        "\n",
        "4. Obtain $Q_{t+1}$ by minimizing  $\\mathcal{L}$ from a recovered batch from the previously stored results.\n",
        "\n",
        "***\n",
        "__Question 6__ Implement the class ```Memory``` that stores moves (in a replay buffer) via ```remember``` and provides a ```random_access``` to these. Specify a maximum memory size to avoid side effects. You can for example use a ```list()``` and set by default ```max_memory=100```."
      ]
    },
    {
      "cell_type": "code",
      "metadata": {
        "id": "Tdy4HfJYMvKU",
        "colab_type": "code",
        "colab": {}
      },
      "source": [
        "class Memory(object):\n",
        "    def __init__(self, max_memory=100):\n",
        "        self.max_memory = max_memory\n",
        "        self.memory = list()\n",
        "\n",
        "    def remember(self, m):\n",
        "      if len(self.memory)<self.max_memory:\n",
        "        self.memory.append(m)\n",
        "      else:\n",
        "        self.memory.pop(0)\n",
        "        self.memory.append(m)\n",
        "    def random_access(self):\n",
        "        m=np.random.randint(0,len(self.memory),size=1)[0]\n",
        "        return self.memory[m]"
      ],
      "execution_count": 0,
      "outputs": []
    },
    {
      "cell_type": "markdown",
      "metadata": {
        "id": "DviDqvCJMvKY",
        "colab_type": "text"
      },
      "source": [
        "***\n",
        "The pipeline we will use for training is given below:"
      ]
    },
    {
      "cell_type": "code",
      "metadata": {
        "id": "GFBXdaixMvKb",
        "colab_type": "code",
        "colab": {}
      },
      "source": [
        "def train(agent,env,epoch,prefix=''):\n",
        "    # Number of won games\n",
        "    score = 0\n",
        "    loss = 0\n",
        "\n",
        "    for e in range(epoch):\n",
        "        # At each epoch, we restart to a fresh game and get the initial state\n",
        "        state = env.reset()\n",
        "        # This assumes that the games will terminate\n",
        "        game_over = False\n",
        "\n",
        "        win = 0\n",
        "        lose = 0\n",
        "\n",
        "        while not game_over:\n",
        "            # The agent performs an action\n",
        "            action = agent.act(state)\n",
        "\n",
        "            # Apply an action to the environment, get the next state, the reward\n",
        "            # and if the games end\n",
        "            prev_state = state\n",
        "            state, reward, game_over = env.act(action)\n",
        "\n",
        "            # Update the counters\n",
        "            if reward > 0:\n",
        "                win = win + reward\n",
        "            if reward < 0:\n",
        "                lose = lose -reward\n",
        "\n",
        "            # Apply the reinforcement strategy\n",
        "            loss = agent.reinforce(prev_state, state,  action, reward, game_over)\n",
        "\n",
        "        # Save as a mp4\n",
        "        if e % 10 == 0:\n",
        "            env.draw(prefix+str(e))\n",
        "\n",
        "        # Update stats\n",
        "        score += win-lose\n",
        "\n",
        "        print(\"Epoch {:03d}/{:03d} | Loss {:.4f} | Win/lose count {}/{} ({})\"\n",
        "              .format(e, epoch, loss, win, lose, win-lose))\n",
        "        agent.save(name_weights=prefix+'model.h5',name_model=prefix+'model.json')"
      ],
      "execution_count": 0,
      "outputs": []
    },
    {
      "cell_type": "markdown",
      "metadata": {
        "id": "15IsVFVCMvKi",
        "colab_type": "text"
      },
      "source": [
        "***\n",
        "__Question 7__ Implement the DQN training algorithm using a cascade of fully connected layers. You can use different learning rate, batch size or memory size parameters. In particular, the loss might oscillate while the player will start to win the games. You have to find a good criterium."
      ]
    },
    {
      "cell_type": "code",
      "metadata": {
        "id": "1OODOZMve9lZ",
        "colab_type": "code",
        "colab": {}
      },
      "source": [
        "class DQN(Agent):\n",
        "    def __init__(self, grid_size,  epsilon = 0.1, memory_size=100, batch_size = 16,n_state=2):\n",
        "        super(DQN, self).__init__(epsilon = epsilon)\n",
        "\n",
        "        # Discount for Q learning\n",
        "        self.discount = 0.99\n",
        "        \n",
        "        self.grid_size = grid_size\n",
        "        \n",
        "        # number of state\n",
        "        self.n_state = n_state\n",
        "\n",
        "        # Memory\n",
        "        self.memory = Memory(memory_size)\n",
        "        \n",
        "        # Batch size when learning\n",
        "        self.batch_size = batch_size\n",
        "\n",
        "    def learned_act(self, s):\n",
        "        return np.argmax(self.model.predict(s.reshape(1,5,5,self.n_state)),1)\n",
        "\n",
        "    def reinforce(self, s_, n_s_, a_, r_, game_over_):\n",
        "        # Two steps: first memorize the states, second learn from the pool\n",
        "\n",
        "        self.memory.remember([s_, n_s_, a_, r_, game_over_])\n",
        "        \n",
        "        input_states = np.zeros((self.batch_size, 5,5,self.n_state))\n",
        "        target_q = np.zeros((self.batch_size, 4))\n",
        "        \n",
        "        for i in range(self.batch_size):\n",
        "            s_, n_s_, a_, r_, game_over_ = self.memory.random_access()\n",
        "            # Saving current state\n",
        "            input_states[i] = s_\n",
        "            \n",
        "            # Get current Q(s,.)\n",
        "            target_q[i] = self.model.predict(s_.reshape(1,5,5,self.n_state))\n",
        "            \n",
        "            # Update Q(s,a)\n",
        "            if game_over_:\n",
        "                target_q[i,a_] = r_\n",
        "            else:\n",
        "                target_q[i,a_] = r_ + self.discount*np.max(self.model.predict(n_s_.reshape(1,5,5,self.n_state)),axis=1)\n",
        "                \n",
        "        # HINT: Clip the target to avoid exploiding gradients.. -- clipping is a bit tighter\n",
        "        target_q = np.clip(target_q, -3, 3)\n",
        "\n",
        "        l = self.model.train_on_batch(input_states, target_q)\n",
        "\n",
        "        return l\n",
        "\n",
        "    def save(self,name_weights='model.h5',name_model='model.json'):\n",
        "        self.model.save_weights(name_weights, overwrite=True)\n",
        "        with open(name_model, \"w\") as outfile:\n",
        "            json.dump(self.model.to_json(), outfile)\n",
        "            \n",
        "    def load(self,name_weights='model.h5',name_model='model.json'):\n",
        "        with open(name_model, \"r\") as jfile:\n",
        "            model = model_from_json(json.load(jfile))\n",
        "        model.load_weights(name_weights)\n",
        "        model.compile(\"adam\", \"mse\")\n",
        "        self.model = model\n",
        "\n",
        "            \n",
        "class DQN_FC(DQN):\n",
        "    def __init__(self, *args, lr=0.1,**kwargs):\n",
        "        super(DQN_FC, self).__init__( *args,**kwargs)\n",
        "        \n",
        "        # NN Model\n",
        "        model = Sequential()\n",
        "        model.add(Flatten(input_shape=(5,5,self.n_state)))\n",
        "        model.add(Dense(20, activation='relu'))\n",
        "        model.add(Dense(4))\n",
        "\n",
        "        model.compile(sgd(lr=lr, decay=1e-4, momentum=0.0), \"mse\")\n",
        "        self.model = model"
      ],
      "execution_count": 0,
      "outputs": []
    },
    {
      "cell_type": "code",
      "metadata": {
        "id": "UTh9DMMVMvKr",
        "colab_type": "code",
        "outputId": "83dce08d-3aff-45a6-b721-7f82b62ac857",
        "colab": {
          "base_uri": "https://localhost:8080/",
          "height": 1000
        }
      },
      "source": [
        "epochs_train=60\n",
        "env = Environment(grid_size=size, max_time=T, temperature=0.3)\n",
        "agent = DQN_FC(size, lr=.1, epsilon = 0.1, memory_size=2000, batch_size = 32)\n",
        "train(agent, env, epochs_train, prefix='fc_train')\n",
        "HTML(display_videos('fc_train0.mp4'))"
      ],
      "execution_count": 0,
      "outputs": [
        {
          "output_type": "stream",
          "text": [
            "Epoch 000/060 | Loss 0.0085 | Win/lose count 7.0/10.0 (-3.0)\n",
            "Epoch 001/060 | Loss 0.0311 | Win/lose count 5.5/8.0 (-2.5)\n",
            "Epoch 002/060 | Loss 0.0063 | Win/lose count 3.0/3.0 (0.0)\n",
            "Epoch 003/060 | Loss 0.0180 | Win/lose count 4.0/6.0 (-2.0)\n",
            "Epoch 004/060 | Loss 0.0209 | Win/lose count 2.0/1.0 (1.0)\n",
            "Epoch 005/060 | Loss 0.0103 | Win/lose count 3.0/2.0 (1.0)\n",
            "Epoch 006/060 | Loss 0.0137 | Win/lose count 5.0/5.0 (0.0)\n",
            "Epoch 007/060 | Loss 0.0090 | Win/lose count 2.0/3.0 (-1.0)\n",
            "Epoch 008/060 | Loss 0.0100 | Win/lose count 3.0/4.0 (-1.0)\n",
            "Epoch 009/060 | Loss 0.0068 | Win/lose count 6.0/8.0 (-2.0)\n",
            "Epoch 010/060 | Loss 0.0049 | Win/lose count 7.5/6.0 (1.5)\n",
            "Epoch 011/060 | Loss 0.0012 | Win/lose count 6.0/3.0 (3.0)\n",
            "Epoch 012/060 | Loss 0.0120 | Win/lose count 2.5/0 (2.5)\n",
            "Epoch 013/060 | Loss 0.0286 | Win/lose count 5.5/5.0 (0.5)\n",
            "Epoch 014/060 | Loss 0.0080 | Win/lose count 9.5/7.0 (2.5)\n",
            "Epoch 015/060 | Loss 0.0448 | Win/lose count 3.5/0 (3.5)\n",
            "Epoch 016/060 | Loss 0.0061 | Win/lose count 4.0/1.0 (3.0)\n",
            "Epoch 017/060 | Loss 0.0049 | Win/lose count 3.0/1.0 (2.0)\n",
            "Epoch 018/060 | Loss 0.0608 | Win/lose count 5.5/5.0 (0.5)\n",
            "Epoch 019/060 | Loss 0.0152 | Win/lose count 2.0/5.0 (-3.0)\n",
            "Epoch 020/060 | Loss 0.0051 | Win/lose count 2.0/1.0 (1.0)\n",
            "Epoch 021/060 | Loss 0.0529 | Win/lose count 6.0/3.0 (3.0)\n",
            "Epoch 022/060 | Loss 0.0048 | Win/lose count 4.5/5.0 (-0.5)\n",
            "Epoch 023/060 | Loss 0.0572 | Win/lose count 4.5/2.0 (2.5)\n",
            "Epoch 024/060 | Loss 0.0054 | Win/lose count 8.0/4.0 (4.0)\n",
            "Epoch 025/060 | Loss 0.0575 | Win/lose count 4.5/0 (4.5)\n",
            "Epoch 026/060 | Loss 0.0167 | Win/lose count 5.0/2.0 (3.0)\n",
            "Epoch 027/060 | Loss 0.0032 | Win/lose count 8.5/4.0 (4.5)\n",
            "Epoch 028/060 | Loss 0.0142 | Win/lose count 9.5/1.0 (8.5)\n",
            "Epoch 029/060 | Loss 0.0025 | Win/lose count 4.0/2.0 (2.0)\n",
            "Epoch 030/060 | Loss 0.0019 | Win/lose count 11.0/3.0 (8.0)\n",
            "Epoch 031/060 | Loss 0.0088 | Win/lose count 9.0/4.0 (5.0)\n",
            "Epoch 032/060 | Loss 0.0146 | Win/lose count 11.0/4.0 (7.0)\n",
            "Epoch 033/060 | Loss 0.0068 | Win/lose count 11.5/3.0 (8.5)\n",
            "Epoch 034/060 | Loss 0.0060 | Win/lose count 4.5/4.0 (0.5)\n",
            "Epoch 035/060 | Loss 0.0630 | Win/lose count 5.0/3.0 (2.0)\n",
            "Epoch 036/060 | Loss 0.0063 | Win/lose count 7.0/2.0 (5.0)\n",
            "Epoch 037/060 | Loss 0.0045 | Win/lose count 4.0/4.0 (0.0)\n",
            "Epoch 038/060 | Loss 0.0031 | Win/lose count 14.0/9.0 (5.0)\n",
            "Epoch 039/060 | Loss 0.0049 | Win/lose count 1.5/4.0 (-2.5)\n",
            "Epoch 040/060 | Loss 0.0078 | Win/lose count 10.5/3.0 (7.5)\n",
            "Epoch 041/060 | Loss 0.0043 | Win/lose count 9.5/2.0 (7.5)\n",
            "Epoch 042/060 | Loss 0.0043 | Win/lose count 11.0/2.0 (9.0)\n",
            "Epoch 043/060 | Loss 0.0034 | Win/lose count 9.5/1.0 (8.5)\n",
            "Epoch 044/060 | Loss 0.0037 | Win/lose count 9.0/1.0 (8.0)\n",
            "Epoch 045/060 | Loss 0.0039 | Win/lose count 3.0/3.0 (0.0)\n",
            "Epoch 046/060 | Loss 0.0073 | Win/lose count 11.0/4.0 (7.0)\n",
            "Epoch 047/060 | Loss 0.0049 | Win/lose count 15.0/3.0 (12.0)\n",
            "Epoch 048/060 | Loss 0.0017 | Win/lose count 13.5/6.0 (7.5)\n",
            "Epoch 049/060 | Loss 0.0103 | Win/lose count 6.0/3.0 (3.0)\n",
            "Epoch 050/060 | Loss 0.0041 | Win/lose count 13.5/1.0 (12.5)\n",
            "Epoch 051/060 | Loss 0.0543 | Win/lose count 5.0/2.0 (3.0)\n",
            "Epoch 052/060 | Loss 0.0021 | Win/lose count 2.5/0 (2.5)\n",
            "Epoch 053/060 | Loss 0.0021 | Win/lose count 7.0/2.0 (5.0)\n",
            "Epoch 054/060 | Loss 0.0058 | Win/lose count 5.0/3.0 (2.0)\n",
            "Epoch 055/060 | Loss 0.0505 | Win/lose count 6.5/3.0 (3.5)\n",
            "Epoch 056/060 | Loss 0.0041 | Win/lose count 5.0/1.0 (4.0)\n",
            "Epoch 057/060 | Loss 0.0585 | Win/lose count 15.5/1.0 (14.5)\n",
            "Epoch 058/060 | Loss 0.0042 | Win/lose count 4.0/0 (4.0)\n",
            "Epoch 059/060 | Loss 0.0039 | Win/lose count 16.0/4.0 (12.0)\n"
          ],
          "name": "stdout"
        },
        {
          "output_type": "execute_result",
          "data": {
            "text/html": [
              "<video alt=\"test\" controls>\n",
              "                <source src=\"data:video/mp4;base64,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\" type=\"video/mp4\" />\n",
              "             </video>"
            ],
            "text/plain": [
              "<IPython.core.display.HTML object>"
            ]
          },
          "metadata": {
            "tags": []
          },
          "execution_count": 21
        }
      ]
    },
    {
      "cell_type": "markdown",
      "metadata": {
        "id": "ZQCaT6XWMvKu",
        "colab_type": "text"
      },
      "source": [
        "***\n",
        "***\n",
        "__Question 8__ Implement the DQN training algorithm using a CNN (for example, 2 convolutional layers and one final fully connected layer)."
      ]
    },
    {
      "cell_type": "code",
      "metadata": {
        "id": "Qo8PIjb8MvKw",
        "colab_type": "code",
        "colab": {}
      },
      "source": [
        "class DQN_CNN(DQN):\n",
        "    def __init__(self, *args,lr=0.1,**kwargs):\n",
        "        super(DQN_CNN, self).__init__(*args,**kwargs)\n",
        "        \n",
        "        ###### FILL IN\n",
        "        model = Sequential()\n",
        "        model.add(Conv2D(10, kernel_size=(2, 2),\n",
        "                 activation='relu',\n",
        "                 input_shape=(5,5,self.n_state)))\n",
        "        model.add(Conv2D(10, (2, 2), activation='relu'))\n",
        "        #model.add(MaxPooling2D(pool_size=(2, 2)))\n",
        "        #model.add(Dropout(0.25))\n",
        "        model.add(Flatten())\n",
        "        #model.add(Dense(50, activation='relu'))\n",
        "        #model.add(Dropout(0.5))\n",
        "        model.add(Dense(4))\n",
        "\n",
        "        model.compile(sgd(lr=lr, decay=1e-4, momentum=0.0), \"mse\")\n",
        "        self.model = model"
      ],
      "execution_count": 0,
      "outputs": []
    },
    {
      "cell_type": "code",
      "metadata": {
        "id": "0SOnU8WUMvK3",
        "colab_type": "code",
        "outputId": "61633090-1020-4dfa-9731-c43fe92e71dd",
        "colab": {
          "base_uri": "https://localhost:8080/",
          "height": 1000
        }
      },
      "source": [
        "env = Environment(grid_size=size, max_time=T, temperature=0.3)\n",
        "agent = DQN_CNN(size, lr=.1, epsilon = 0.1, memory_size=2000, batch_size = 32)\n",
        "train(agent,env,epochs_train,prefix='cnn_train')\n",
        "HTML(display_videos('cnn_train10.mp4'))"
      ],
      "execution_count": 0,
      "outputs": [
        {
          "output_type": "stream",
          "text": [
            "Epoch 000/060 | Loss 0.0175 | Win/lose count 3.5/2.0 (1.5)\n",
            "Epoch 001/060 | Loss 0.0081 | Win/lose count 2.5/2.0 (0.5)\n",
            "Epoch 002/060 | Loss 0.0024 | Win/lose count 2.5/5.0 (-2.5)\n",
            "Epoch 003/060 | Loss 0.0023 | Win/lose count 2.0/2.0 (0.0)\n",
            "Epoch 004/060 | Loss 0.0066 | Win/lose count 3.0/1.0 (2.0)\n",
            "Epoch 005/060 | Loss 0.0045 | Win/lose count 5.5/4.0 (1.5)\n",
            "Epoch 006/060 | Loss 0.0038 | Win/lose count 7.5/3.0 (4.5)\n",
            "Epoch 007/060 | Loss 0.0017 | Win/lose count 3.0/4.0 (-1.0)\n",
            "Epoch 008/060 | Loss 0.0514 | Win/lose count 5.5/7.0 (-1.5)\n",
            "Epoch 009/060 | Loss 0.0487 | Win/lose count 9.0/2.0 (7.0)\n",
            "Epoch 010/060 | Loss 0.0042 | Win/lose count 3.0/0 (3.0)\n",
            "Epoch 011/060 | Loss 0.0060 | Win/lose count 4.5/0 (4.5)\n",
            "Epoch 012/060 | Loss 0.0070 | Win/lose count 2.5/0 (2.5)\n",
            "Epoch 013/060 | Loss 0.0106 | Win/lose count 2.0/0 (2.0)\n",
            "Epoch 014/060 | Loss 0.0016 | Win/lose count 11.5/2.0 (9.5)\n",
            "Epoch 015/060 | Loss 0.0019 | Win/lose count 12.5/1.0 (11.5)\n",
            "Epoch 016/060 | Loss 0.0844 | Win/lose count 8.5/1.0 (7.5)\n",
            "Epoch 017/060 | Loss 0.0023 | Win/lose count 8.5/2.0 (6.5)\n",
            "Epoch 018/060 | Loss 0.0032 | Win/lose count 10.5/5.0 (5.5)\n",
            "Epoch 019/060 | Loss 0.0044 | Win/lose count 4.0/3.0 (1.0)\n",
            "Epoch 020/060 | Loss 0.0023 | Win/lose count 9.0/5.0 (4.0)\n",
            "Epoch 021/060 | Loss 0.0018 | Win/lose count 3.5/1.0 (2.5)\n",
            "Epoch 022/060 | Loss 0.0025 | Win/lose count 11.0/3.0 (8.0)\n",
            "Epoch 023/060 | Loss 0.0026 | Win/lose count 4.5/1.0 (3.5)\n",
            "Epoch 024/060 | Loss 0.0062 | Win/lose count 13.5/2.0 (11.5)\n",
            "Epoch 025/060 | Loss 0.0625 | Win/lose count 18.5/3.0 (15.5)\n",
            "Epoch 026/060 | Loss 0.0033 | Win/lose count 7.0/2.0 (5.0)\n",
            "Epoch 027/060 | Loss 0.0026 | Win/lose count 13.0/2.0 (11.0)\n",
            "Epoch 028/060 | Loss 0.0021 | Win/lose count 5.5/4.0 (1.5)\n",
            "Epoch 029/060 | Loss 0.0016 | Win/lose count 14.5/4.0 (10.5)\n",
            "Epoch 030/060 | Loss 0.0073 | Win/lose count 10.5/1.0 (9.5)\n",
            "Epoch 031/060 | Loss 0.0023 | Win/lose count 12.5/1.0 (11.5)\n",
            "Epoch 032/060 | Loss 0.0030 | Win/lose count 7.5/2.0 (5.5)\n",
            "Epoch 033/060 | Loss 0.0021 | Win/lose count 8.0/2.0 (6.0)\n",
            "Epoch 034/060 | Loss 0.0054 | Win/lose count 17.0/6.0 (11.0)\n",
            "Epoch 035/060 | Loss 0.0024 | Win/lose count 5.5/2.0 (3.5)\n",
            "Epoch 036/060 | Loss 0.0071 | Win/lose count 13.0/2.0 (11.0)\n",
            "Epoch 037/060 | Loss 0.0044 | Win/lose count 6.5/3.0 (3.5)\n",
            "Epoch 038/060 | Loss 0.0024 | Win/lose count 22.5/4.0 (18.5)\n",
            "Epoch 039/060 | Loss 0.0098 | Win/lose count 6.5/2.0 (4.5)\n",
            "Epoch 040/060 | Loss 0.0431 | Win/lose count 9.0/1.0 (8.0)\n",
            "Epoch 041/060 | Loss 0.0041 | Win/lose count 13.5/7.0 (6.5)\n",
            "Epoch 042/060 | Loss 0.0029 | Win/lose count 4.0/2.0 (2.0)\n",
            "Epoch 043/060 | Loss 0.0018 | Win/lose count 10.0/1.0 (9.0)\n",
            "Epoch 044/060 | Loss 0.0030 | Win/lose count 9.0/1.0 (8.0)\n",
            "Epoch 045/060 | Loss 0.0034 | Win/lose count 15.5/5.0 (10.5)\n",
            "Epoch 046/060 | Loss 0.0038 | Win/lose count 14.0/1.0 (13.0)\n",
            "Epoch 047/060 | Loss 0.0050 | Win/lose count 8.5/0 (8.5)\n",
            "Epoch 048/060 | Loss 0.0056 | Win/lose count 14.0/2.0 (12.0)\n",
            "Epoch 049/060 | Loss 0.0045 | Win/lose count 19.0/5.0 (14.0)\n",
            "Epoch 050/060 | Loss 0.0020 | Win/lose count 8.5/1.0 (7.5)\n",
            "Epoch 051/060 | Loss 0.0558 | Win/lose count 21.0/2.0 (19.0)\n",
            "Epoch 052/060 | Loss 0.0016 | Win/lose count 13.5/1.0 (12.5)\n",
            "Epoch 053/060 | Loss 0.0092 | Win/lose count 11.5/6.0 (5.5)\n",
            "Epoch 054/060 | Loss 0.0042 | Win/lose count 4.5/4.0 (0.5)\n",
            "Epoch 055/060 | Loss 0.0015 | Win/lose count 15.0/5.0 (10.0)\n",
            "Epoch 056/060 | Loss 0.0030 | Win/lose count 11.0/2.0 (9.0)\n",
            "Epoch 057/060 | Loss 0.0020 | Win/lose count 11.0/2.0 (9.0)\n",
            "Epoch 058/060 | Loss 0.0015 | Win/lose count 18.0/5.0 (13.0)\n",
            "Epoch 059/060 | Loss 0.0028 | Win/lose count 21.5/3.0 (18.5)\n"
          ],
          "name": "stdout"
        },
        {
          "output_type": "execute_result",
          "data": {
            "text/html": [
              "<video alt=\"test\" controls>\n",
              "                <source src=\"data:video/mp4;base64,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\" type=\"video/mp4\" />\n",
              "             </video>"
            ],
            "text/plain": [
              "<IPython.core.display.HTML object>"
            ]
          },
          "metadata": {
            "tags": []
          },
          "execution_count": 23
        }
      ]
    },
    {
      "cell_type": "markdown",
      "metadata": {
        "id": "iLwFWbf0MvK8",
        "colab_type": "text"
      },
      "source": [
        "***\n",
        "***\n",
        "__Question 9__ Test both algorithms and compare their performances. Which issue(s) do you observe? Observe also different behaviors by changing the temperature."
      ]
    },
    {
      "cell_type": "code",
      "metadata": {
        "id": "9R_IcIP9MvK9",
        "colab_type": "code",
        "outputId": "d30d65cb-91e9-491a-887d-090a35100608",
        "colab": {
          "base_uri": "https://localhost:8080/",
          "height": 825
        }
      },
      "source": [
        "env = Environment(grid_size=size, max_time=T,temperature=0.5)\n",
        "agent_cnn = DQN_CNN(size, lr=.1, epsilon = 0.1, memory_size=2000, batch_size = 32)\n",
        "agent_cnn.load(name_weights='cnn_trainmodel.h5',name_model='cnn_trainmodel.json')\n",
        "\n",
        "agent_fc = DQN_FC(size, lr=.1, epsilon = 0.1, memory_size=2000, batch_size = 32)\n",
        "agent_cnn.load(name_weights='fc_trainmodel.h5',name_model='fc_trainmodel.json')\n",
        "print('Test of the CNN')\n",
        "test(agent_cnn,env,epochs_test,prefix='cnn_test')\n",
        "print('Test of the FC')\n",
        "test(agent_fc,env,epochs_test,prefix='fc_test')"
      ],
      "execution_count": 39,
      "outputs": [
        {
          "output_type": "stream",
          "text": [
            "Test of the CNN\n",
            "Win/lose count 9.5/3.0. Average score (6.5)\n",
            "Win/lose count 10.0/3.0. Average score (6.75)\n",
            "Win/lose count 22.0/3.0. Average score (10.833333333333334)\n",
            "Win/lose count 9.5/6.0. Average score (9.0)\n",
            "Win/lose count 19.5/4.0. Average score (10.3)\n",
            "Win/lose count 18.0/6.0. Average score (10.583333333333334)\n",
            "Win/lose count 8.0/3.0. Average score (9.785714285714286)\n",
            "Win/lose count 11.5/7.0. Average score (9.125)\n",
            "Win/lose count 23.0/10.0. Average score (9.555555555555555)\n",
            "Win/lose count 30.0/8.0. Average score (10.8)\n",
            "Win/lose count 20.0/3.0. Average score (11.363636363636363)\n",
            "Win/lose count 12.0/2.0. Average score (11.25)\n",
            "Win/lose count 30.5/7.0. Average score (12.192307692307692)\n",
            "Win/lose count 10.0/4.0. Average score (11.75)\n",
            "Win/lose count 15.0/4.0. Average score (11.7)\n",
            "Win/lose count 6.0/1.0. Average score (11.28125)\n",
            "Win/lose count 15.5/7.0. Average score (11.117647058823529)\n",
            "Win/lose count 6.5/2.0. Average score (10.75)\n",
            "Win/lose count 13.5/3.0. Average score (10.736842105263158)\n",
            "Win/lose count 31.5/2.0. Average score (11.675)\n",
            "Final score: 11.675\n",
            "Test of the FC\n",
            "Win/lose count 7.5/5.0. Average score (2.5)\n",
            "Win/lose count 4.5/9.0. Average score (-1.0)\n",
            "Win/lose count 6.0/7.0. Average score (-1.0)\n",
            "Win/lose count 6.5/6.0. Average score (-0.625)\n",
            "Win/lose count 6.5/10.0. Average score (-1.2)\n",
            "Win/lose count 3.0/7.0. Average score (-1.6666666666666667)\n",
            "Win/lose count 6.0/7.0. Average score (-1.5714285714285714)\n",
            "Win/lose count 5.0/4.0. Average score (-1.25)\n",
            "Win/lose count 6.0/7.0. Average score (-1.2222222222222223)\n",
            "Win/lose count 4.0/7.0. Average score (-1.4)\n",
            "Win/lose count 4.5/5.0. Average score (-1.3181818181818181)\n",
            "Win/lose count 2.5/1.0. Average score (-1.0833333333333333)\n",
            "Win/lose count 4.0/7.0. Average score (-1.2307692307692308)\n",
            "Win/lose count 6.5/6.0. Average score (-1.1071428571428572)\n",
            "Win/lose count 3.0/0. Average score (-0.8333333333333334)\n",
            "Win/lose count 4.5/11.0. Average score (-1.1875)\n",
            "Win/lose count 1.0/2.0. Average score (-1.1764705882352942)\n",
            "Win/lose count 5.0/8.0. Average score (-1.2777777777777777)\n",
            "Win/lose count 3.5/4.0. Average score (-1.236842105263158)\n",
            "Win/lose count 6.0/6.0. Average score (-1.175)\n",
            "Final score: -1.175\n"
          ],
          "name": "stdout"
        }
      ]
    },
    {
      "cell_type": "code",
      "metadata": {
        "id": "w-jWLfMAMvLB",
        "colab_type": "code",
        "colab": {}
      },
      "source": [
        "HTML(display_videos('cnn_test10.mp4'))"
      ],
      "execution_count": 0,
      "outputs": []
    },
    {
      "cell_type": "code",
      "metadata": {
        "id": "oGropkI-MvLF",
        "colab_type": "code",
        "colab": {}
      },
      "source": [
        "HTML(display_videos('fc_test10.mp4'))"
      ],
      "execution_count": 0,
      "outputs": []
    },
    {
      "cell_type": "markdown",
      "metadata": {
        "id": "DCCUEBU1MvLO",
        "colab_type": "text"
      },
      "source": [
        "The following table shows the Temperature change effect on the score.\n",
        "\n",
        "| Temperature| CNN Avg Score | FC Avg Score | \n",
        "|----------|----------|----------|\n",
        "| 0.1 |   1.45      |    -0.95 |  \n",
        "| 0.2 |   3.8      |    -2.5 |  \n",
        "| 0.3 |   7.42      |    -1.6 |  \n",
        "| 0.4 |   9.95      |    -1.45 |  \n",
        "| 0.5 |   11.675      |    -1.175 |  \n",
        "\n",
        "We notice that if we augment the temperature, we get better results especially with the CNN model.\n",
        "This can be explained by the fact that the temperature is an hyperparameter that control the number of bonuses in the grid. And that the more it get bigger the more bonuses we have.\n",
        "\n",
        "The issue we observe is that the agent does not explore all the grid, this can be explained by the fact that the probability epsilon=0.1 to explore other action is weak with the greedy epsilon strategy. "
      ]
    },
    {
      "cell_type": "markdown",
      "metadata": {
        "id": "YasyKAO5MvLP",
        "colab_type": "text"
      },
      "source": [
        "***\n",
        "\n",
        "The algorithm tends to not explore the map which can be an issue. We propose two ideas in order to encourage exploration:\n",
        "1. Incorporating a decreasing $\\epsilon$-greedy exploration. You can use the method ```set_epsilon```\n",
        "2. Append via the environment a new state that describes if a cell has been visited or not\n",
        "\n",
        "***\n",
        "__Question 10__ Design a new ```train_explore``` function and environment class ```EnvironmentExploring``` to tackle the issue of exploration.\n",
        "\n"
      ]
    },
    {
      "cell_type": "code",
      "metadata": {
        "id": "SIcjKMQGMvLQ",
        "colab_type": "code",
        "outputId": "4ff1b561-8182-4e95-f99d-332db8c27976",
        "colab": {
          "base_uri": "https://localhost:8080/",
          "height": 54
        }
      },
      "source": [
        "def train_explore(agent,env,epoch,prefix=''):\n",
        "    # Number of won games\n",
        "    score = 0\n",
        "    loss = 0\n",
        "\n",
        "    for e in range(epoch):\n",
        "        # At each epoch, we restart to a fresh game and get the initial state\n",
        "        state = env.reset()\n",
        "        # This assumes that the games will terminate\n",
        "        game_over = False\n",
        "\n",
        "        win = 0\n",
        "        lose = 0\n",
        "        agent.set_epsilon(1-e/epoch)\n",
        "        while not game_over:\n",
        "            # The agent performs an action\n",
        "            action = agent.act(state)\n",
        "\n",
        "            # Apply an action to the environment, get the next state, the reward\n",
        "            # and if the games end\n",
        "            prev_state = state\n",
        "            state, reward, game_over = env.act(action,train=True)\n",
        "\n",
        "            # Update the counters\n",
        "            if reward > 0:\n",
        "                win = win + reward\n",
        "            if reward < 0:\n",
        "                lose = lose -reward\n",
        "\n",
        "            # Apply the reinforcement strategy\n",
        "            loss = agent.reinforce(prev_state, state,  action, reward, game_over)\n",
        "\n",
        "        # Save as a mp4\n",
        "        if e % 10 == 0:\n",
        "            env.draw(prefix+str(e))\n",
        "\n",
        "        # Update stats\n",
        "        score += win-lose\n",
        "\n",
        "        print(\"Epoch {:03d}/{:03d} | Loss {:.4f} | Win/lose count {}/{} ({})\"\n",
        "              .format(e, epoch, loss, win, lose, win-lose))\n",
        "        agent.save(name_weights=prefix+'model.h5',name_model=prefix+'model.json')\n",
        "        \n",
        "class EnvironmentExploring(object):\n",
        "    def __init__(self, grid_size=10, max_time=500, temperature=0.1):\n",
        "        grid_size = grid_size+4\n",
        "        self.grid_size = grid_size\n",
        "        self.max_time = max_time\n",
        "        self.temperature = temperature\n",
        "\n",
        "        #board on which one plays\n",
        "        self.board = np.zeros((grid_size,grid_size))\n",
        "        self.position = np.zeros((grid_size,grid_size))\n",
        "        self.malus_position = np.zeros((grid_size,grid_size))\n",
        "        # coordinate of the cat\n",
        "        self.x = 0\n",
        "        self.y = 1\n",
        "\n",
        "        # self time\n",
        "        self.t = 0\n",
        "\n",
        "        self.scale=16\n",
        "\n",
        "        self.to_draw = np.zeros((max_time+2, grid_size*self.scale, grid_size*self.scale, 3))\n",
        "\n",
        "\n",
        "    def draw(self,e):\n",
        "        skvideo.io.vwrite(str(e) + '.mp4', self.to_draw)\n",
        "\n",
        "    def get_frame(self,t):\n",
        "        b = np.zeros((self.grid_size,self.grid_size,3))+128\n",
        "        b[self.board>0,0] = 256\n",
        "        b[self.board < 0, 2] = 256\n",
        "        b[self.x,self.y,:]=256\n",
        "        b[-2:,:,:]=0\n",
        "        b[:,-2:,:]=0\n",
        "        b[:2,:,:]=0\n",
        "        b[:,:2,:]=0\n",
        "        \n",
        "        b =  cv2.resize(b, None, fx=self.scale, fy=self.scale, interpolation=cv2.INTER_NEAREST)\n",
        "\n",
        "        self.to_draw[t,:,:,:]=b\n",
        "\n",
        "\n",
        "    def act(self, action, train=False):\n",
        "        \"\"\"This function returns the new state, reward and decides if the\n",
        "        game ends.\"\"\"\n",
        "\n",
        "        self.get_frame(int(self.t))\n",
        "\n",
        "        self.position = np.zeros((self.grid_size, self.grid_size))\n",
        "\n",
        "        self.position[0:2,:]= -1\n",
        "        self.position[:,0:2] = -1\n",
        "        self.position[-2:, :] = -1\n",
        "        self.position[-2:, :] = -1\n",
        "\n",
        "        self.position[self.x, self.y] = 1\n",
        "        if action == 0:\n",
        "            if self.x == self.grid_size-3:\n",
        "                self.x = self.x-1\n",
        "            else:\n",
        "                self.x = self.x + 1\n",
        "        elif action == 1:\n",
        "            if self.x == 2:\n",
        "                self.x = self.x+1\n",
        "            else:\n",
        "                self.x = self.x-1\n",
        "        elif action == 2:\n",
        "            if self.y == self.grid_size - 3:\n",
        "                self.y = self.y - 1\n",
        "            else:\n",
        "                self.y = self.y + 1\n",
        "        elif action == 3:\n",
        "            if self.y == 2:\n",
        "                self.y = self.y + 1\n",
        "            else:\n",
        "                self.y = self.y - 1\n",
        "        else:\n",
        "            RuntimeError('Error: action not recognized')\n",
        "\n",
        "        self.t = self.t + 1\n",
        "        reward = 0\n",
        "        if train:\n",
        "          reward = -self.malus_position[self.x, self.y]\n",
        "        self.malus_position[self.x, self.y] = 0.1\n",
        "        reward = reward + self.board[self.x, self.y]\n",
        "        self.board[self.x, self.y] = 0\n",
        "        game_over = self.t > self.max_time\n",
        "        state = np.concatenate((self.malus_position.reshape(self.grid_size, self.grid_size,1),\n",
        "                                self.board.reshape(self.grid_size, self.grid_size,1),\n",
        "                        self.position.reshape(self.grid_size, self.grid_size,1)),axis=2)\n",
        "        state = state[self.x-2:self.x+3,self.y-2:self.y+3,:]\n",
        "        return state, reward, game_over\n",
        "\n",
        "    def reset(self):\n",
        "        \"\"\"This function resets the game and returns the initial state\"\"\"\n",
        "\n",
        "        self.x = np.random.randint(3, self.grid_size-3, size=1)[0]\n",
        "        self.y = np.random.randint(3, self.grid_size-3, size=1)[0]\n",
        "\n",
        "\n",
        "        bonus = 0.5*np.random.binomial(1,self.temperature,size=self.grid_size**2)\n",
        "        bonus = bonus.reshape(self.grid_size,self.grid_size)\n",
        "\n",
        "        malus = -1.0*np.random.binomial(1,self.temperature,size=self.grid_size**2)\n",
        "        malus = malus.reshape(self.grid_size, self.grid_size)\n",
        "\n",
        "        self.to_draw = np.zeros((self.max_time+2, self.grid_size*self.scale, self.grid_size*self.scale, 3))\n",
        "\n",
        "\n",
        "        malus[bonus>0]=0\n",
        "\n",
        "        self.board = bonus + malus\n",
        "\n",
        "        self.position = np.zeros((self.grid_size, self.grid_size))\n",
        "        self.position[0:2,:]= -1\n",
        "        self.position[:,0:2] = -1\n",
        "        self.position[-2:, :] = -1\n",
        "        self.position[-2:, :] = -1\n",
        "        self.board[self.x,self.y] = 0\n",
        "        self.t = 0\n",
        "        self.malus_position = np.zeros((self.grid_size, self.grid_size))\n",
        "        self.malus_position[self.x,self.y]=0.1\n",
        "        \n",
        "        state = np.concatenate((self.malus_position.reshape(self.grid_size, self.grid_size,1),\n",
        "                                self.board.reshape(self.grid_size, self.grid_size,1),\n",
        "                        self.position.reshape(self.grid_size, self.grid_size,1)),axis=2)\n",
        "        state = state[self.x - 2:self.x + 3, self.y - 2:self.y + 3, :]\n",
        "        return state\n",
        "'''\n",
        "##==============================================================================\n",
        "## use those samples of code:\n",
        "#In train explore:\n",
        "state, reward, game_over = env.act(action, train=True)\n",
        "\n",
        "## In Environment exploring:\n",
        "# You will have to change n_state to 3 because you will use one more layer!\n",
        "reward = 0\n",
        "if train:\n",
        "    reward = -self.malus_position[self.x, self.y]\n",
        "self.malus_position[self.x, self.y] = 0.1\n",
        "\n",
        "reward = reward + self.board[self.x, self.y]\n",
        "# 3 \"feature\" states instead of 2\n",
        "state = np.concatenate((self.malus_position.reshape(self.grid_size, self.grid_size,1),\n",
        "                                self.board.reshape(self.grid_size, self.grid_size,1),\n",
        "                        self.position.reshape(self.grid_size, self.grid_size,1)),axis=2)\n",
        "'''"
      ],
      "execution_count": 0,
      "outputs": [
        {
          "output_type": "execute_result",
          "data": {
            "text/plain": [
              "'\\n##==============================================================================\\n## use those samples of code:\\n#In train explore:\\nstate, reward, game_over = env.act(action, train=True)\\n\\n## In Environment exploring:\\n# You will have to change n_state to 3 because you will use one more layer!\\nreward = 0\\nif train:\\n    reward = -self.malus_position[self.x, self.y]\\nself.malus_position[self.x, self.y] = 0.1\\n\\nreward = reward + self.board[self.x, self.y]\\n# 3 \"feature\" states instead of 2\\nstate = np.concatenate((self.malus_position.reshape(self.grid_size, self.grid_size,1),\\n                                self.board.reshape(self.grid_size, self.grid_size,1),\\n                        self.position.reshape(self.grid_size, self.grid_size,1)),axis=2)\\n'"
            ]
          },
          "metadata": {
            "tags": []
          },
          "execution_count": 19
        }
      ]
    },
    {
      "cell_type": "code",
      "metadata": {
        "id": "YaPhuYxKMvLV",
        "colab_type": "code",
        "outputId": "60ed0646-f744-4238-f176-d338b3edc46c",
        "colab": {
          "base_uri": "https://localhost:8080/",
          "height": 1000
        }
      },
      "source": [
        "# Training\n",
        "env = EnvironmentExploring(grid_size=size, max_time=T, temperature=0.3)\n",
        "agent = DQN_CNN(size, lr=.1, epsilon = 0.1, memory_size=2000, batch_size = 32,n_state=3)\n",
        "train_explore(agent, env, epochs_train, prefix='cnn_train_explore')\n",
        "HTML(display_videos('cnn_train_explore10.mp4'))"
      ],
      "execution_count": 0,
      "outputs": [
        {
          "output_type": "stream",
          "text": [
            "Epoch 000/100 | Loss 0.0084 | Win/lose count 10.0/21.900000000000002 (-11.900000000000002)\n",
            "Epoch 001/100 | Loss 0.0762 | Win/lose count 10.5/23.300000000000058 (-12.800000000000058)\n",
            "Epoch 002/100 | Loss 0.0173 | Win/lose count 10.5/27.600000000000076 (-17.100000000000076)\n",
            "Epoch 003/100 | Loss 0.0154 | Win/lose count 10.0/28.600000000000065 (-18.600000000000065)\n",
            "Epoch 004/100 | Loss 0.0117 | Win/lose count 8.5/32.000000000000114 (-23.500000000000114)\n",
            "Epoch 005/100 | Loss 0.0110 | Win/lose count 12.5/30.600000000000083 (-18.100000000000083)\n",
            "Epoch 006/100 | Loss 0.0113 | Win/lose count 12.5/26.600000000000087 (-14.100000000000087)\n",
            "Epoch 007/100 | Loss 0.0074 | Win/lose count 13.0/28.200000000000074 (-15.200000000000074)\n",
            "Epoch 008/100 | Loss 0.0046 | Win/lose count 13.0/23.200000000000024 (-10.200000000000024)\n",
            "Epoch 009/100 | Loss 0.0038 | Win/lose count 8.0/20.500000000000032 (-12.500000000000032)\n",
            "Epoch 010/100 | Loss 0.0084 | Win/lose count 14.0/28.30000000000009 (-14.30000000000009)\n",
            "Epoch 011/100 | Loss 0.0033 | Win/lose count 10.0/25.400000000000073 (-15.400000000000073)\n",
            "Epoch 012/100 | Loss 0.0080 | Win/lose count 12.5/24.60000000000008 (-12.10000000000008)\n",
            "Epoch 013/100 | Loss 0.0032 | Win/lose count 11.0/25.00000000000008 (-14.000000000000082)\n",
            "Epoch 014/100 | Loss 0.0075 | Win/lose count 12.5/26.00000000000007 (-13.500000000000071)\n",
            "Epoch 015/100 | Loss 0.0060 | Win/lose count 10.5/27.800000000000097 (-17.300000000000097)\n",
            "Epoch 016/100 | Loss 0.0044 | Win/lose count 8.0/20.60000000000002 (-12.60000000000002)\n",
            "Epoch 017/100 | Loss 0.0075 | Win/lose count 12.5/28.700000000000067 (-16.200000000000067)\n",
            "Epoch 018/100 | Loss 0.0074 | Win/lose count 15.0/22.90000000000003 (-7.9000000000000306)\n",
            "Epoch 019/100 | Loss 0.0072 | Win/lose count 14.0/24.200000000000067 (-10.200000000000067)\n",
            "Epoch 020/100 | Loss 0.0062 | Win/lose count 8.5/30.300000000000054 (-21.800000000000054)\n",
            "Epoch 021/100 | Loss 0.0073 | Win/lose count 6.5/23.800000000000036 (-17.300000000000036)\n",
            "Epoch 022/100 | Loss 0.0054 | Win/lose count 20.0/20.70000000000005 (-0.700000000000049)\n",
            "Epoch 023/100 | Loss 0.0046 | Win/lose count 19.0/19.80000000000002 (-0.8000000000000185)\n",
            "Epoch 024/100 | Loss 0.0100 | Win/lose count 13.5/26.50000000000006 (-13.00000000000006)\n",
            "Epoch 025/100 | Loss 0.0093 | Win/lose count 12.0/19.099999999999977 (-7.0999999999999766)\n",
            "Epoch 026/100 | Loss 0.0050 | Win/lose count 13.0/27.00000000000007 (-14.000000000000071)\n",
            "Epoch 027/100 | Loss 0.0062 | Win/lose count 11.5/23.200000000000045 (-11.700000000000045)\n",
            "Epoch 028/100 | Loss 0.0068 | Win/lose count 12.5/20.900000000000045 (-8.400000000000045)\n",
            "Epoch 029/100 | Loss 0.0062 | Win/lose count 15.0/25.600000000000033 (-10.600000000000033)\n",
            "Epoch 030/100 | Loss 0.0070 | Win/lose count 17.5/21.800000000000054 (-4.300000000000054)\n",
            "Epoch 031/100 | Loss 0.0068 | Win/lose count 21.5/24.400000000000034 (-2.900000000000034)\n",
            "Epoch 032/100 | Loss 0.0072 | Win/lose count 16.5/31.900000000000077 (-15.400000000000077)\n",
            "Epoch 033/100 | Loss 0.0053 | Win/lose count 14.5/25.10000000000004 (-10.60000000000004)\n",
            "Epoch 034/100 | Loss 0.0094 | Win/lose count 14.5/21.800000000000033 (-7.300000000000033)\n",
            "Epoch 035/100 | Loss 0.0054 | Win/lose count 15.0/20.100000000000005 (-5.100000000000005)\n",
            "Epoch 036/100 | Loss 0.0055 | Win/lose count 13.5/24.400000000000034 (-10.900000000000034)\n",
            "Epoch 037/100 | Loss 0.0030 | Win/lose count 16.5/24.900000000000066 (-8.400000000000066)\n",
            "Epoch 038/100 | Loss 0.0096 | Win/lose count 18.0/20.800000000000026 (-2.8000000000000256)\n",
            "Epoch 039/100 | Loss 0.0040 | Win/lose count 15.5/24.600000000000065 (-9.100000000000065)\n",
            "Epoch 040/100 | Loss 0.0070 | Win/lose count 11.5/24.400000000000063 (-12.900000000000063)\n",
            "Epoch 041/100 | Loss 0.0031 | Win/lose count 21.0/23.500000000000014 (-2.500000000000014)\n",
            "Epoch 042/100 | Loss 0.0037 | Win/lose count 13.0/21.20000000000004 (-8.200000000000038)\n",
            "Epoch 043/100 | Loss 0.0038 | Win/lose count 18.5/30.100000000000083 (-11.600000000000083)\n",
            "Epoch 044/100 | Loss 0.0038 | Win/lose count 13.0/26.900000000000112 (-13.900000000000112)\n",
            "Epoch 045/100 | Loss 0.0029 | Win/lose count 19.5/21.100000000000023 (-1.6000000000000227)\n",
            "Epoch 046/100 | Loss 0.0042 | Win/lose count 17.5/22.30000000000001 (-4.800000000000011)\n",
            "Epoch 047/100 | Loss 0.0047 | Win/lose count 18.5/24.700000000000045 (-6.2000000000000455)\n",
            "Epoch 048/100 | Loss 0.0110 | Win/lose count 20.0/20.600000000000016 (-0.6000000000000156)\n",
            "Epoch 049/100 | Loss 0.0062 | Win/lose count 17.0/19.5 (-2.5)\n",
            "Epoch 050/100 | Loss 0.0520 | Win/lose count 22.0/21.000000000000025 (0.9999999999999751)\n",
            "Epoch 051/100 | Loss 0.0091 | Win/lose count 19.5/24.10000000000003 (-4.60000000000003)\n",
            "Epoch 052/100 | Loss 0.0071 | Win/lose count 23.5/21.900000000000027 (1.599999999999973)\n",
            "Epoch 053/100 | Loss 0.0074 | Win/lose count 13.5/26.100000000000037 (-12.600000000000037)\n",
            "Epoch 054/100 | Loss 0.0043 | Win/lose count 14.0/22.600000000000026 (-8.600000000000026)\n",
            "Epoch 055/100 | Loss 0.0499 | Win/lose count 22.5/24.70000000000003 (-2.2000000000000313)\n",
            "Epoch 056/100 | Loss 0.0097 | Win/lose count 17.5/21.900000000000066 (-4.400000000000066)\n",
            "Epoch 057/100 | Loss 0.0056 | Win/lose count 14.5/17.19999999999998 (-2.6999999999999815)\n",
            "Epoch 058/100 | Loss 0.0084 | Win/lose count 19.5/18.000000000000007 (1.499999999999993)\n",
            "Epoch 059/100 | Loss 0.0111 | Win/lose count 20.0/21.000000000000025 (-1.0000000000000249)\n",
            "Epoch 060/100 | Loss 0.0035 | Win/lose count 19.0/26.000000000000018 (-7.000000000000018)\n",
            "Epoch 061/100 | Loss 0.0070 | Win/lose count 25.5/14.099999999999973 (11.400000000000027)\n",
            "Epoch 062/100 | Loss 0.0118 | Win/lose count 21.0/18.499999999999993 (2.500000000000007)\n",
            "Epoch 063/100 | Loss 0.0068 | Win/lose count 15.5/18.7 (-3.1999999999999993)\n",
            "Epoch 064/100 | Loss 0.0043 | Win/lose count 23.0/19.300000000000015 (3.699999999999985)\n",
            "Epoch 065/100 | Loss 0.0060 | Win/lose count 14.0/23.700000000000063 (-9.700000000000063)\n",
            "Epoch 066/100 | Loss 0.0090 | Win/lose count 19.0/21.000000000000014 (-2.000000000000014)\n",
            "Epoch 067/100 | Loss 0.0079 | Win/lose count 24.0/16.89999999999999 (7.1000000000000085)\n",
            "Epoch 068/100 | Loss 0.0061 | Win/lose count 21.0/19.400000000000002 (1.5999999999999979)\n",
            "Epoch 069/100 | Loss 0.0070 | Win/lose count 20.0/14.399999999999977 (5.600000000000023)\n",
            "Epoch 070/100 | Loss 0.0051 | Win/lose count 21.5/24.70000000000005 (-3.200000000000049)\n",
            "Epoch 071/100 | Loss 0.0054 | Win/lose count 15.5/16.099999999999966 (-0.5999999999999659)\n",
            "Epoch 072/100 | Loss 0.0065 | Win/lose count 23.5/16.099999999999977 (7.4000000000000234)\n",
            "Epoch 073/100 | Loss 0.0068 | Win/lose count 19.0/19.000000000000025 (-2.4868995751603507e-14)\n",
            "Epoch 074/100 | Loss 0.0117 | Win/lose count 15.0/21.70000000000005 (-6.700000000000049)\n",
            "Epoch 075/100 | Loss 0.0100 | Win/lose count 24.0/19.100000000000005 (4.899999999999995)\n",
            "Epoch 076/100 | Loss 0.0095 | Win/lose count 24.0/16.09999999999998 (7.90000000000002)\n",
            "Epoch 077/100 | Loss 0.0069 | Win/lose count 22.0/20.300000000000015 (1.699999999999985)\n",
            "Epoch 078/100 | Loss 0.0050 | Win/lose count 22.5/14.599999999999971 (7.900000000000029)\n",
            "Epoch 079/100 | Loss 0.0094 | Win/lose count 21.0/13.499999999999973 (7.500000000000027)\n",
            "Epoch 080/100 | Loss 0.0095 | Win/lose count 24.5/14.79999999999998 (9.70000000000002)\n",
            "Epoch 081/100 | Loss 0.0104 | Win/lose count 18.5/19.200000000000017 (-0.700000000000017)\n",
            "Epoch 082/100 | Loss 0.0049 | Win/lose count 17.5/16.49999999999997 (1.0000000000000284)\n",
            "Epoch 083/100 | Loss 0.0099 | Win/lose count 13.5/17.29999999999999 (-3.79999999999999)\n",
            "Epoch 084/100 | Loss 0.0105 | Win/lose count 20.0/11.699999999999982 (8.300000000000018)\n",
            "Epoch 085/100 | Loss 0.0125 | Win/lose count 16.5/17.9 (-1.3999999999999986)\n",
            "Epoch 086/100 | Loss 0.0076 | Win/lose count 17.5/15.999999999999963 (1.5000000000000373)\n",
            "Epoch 087/100 | Loss 0.0107 | Win/lose count 27.0/12.09999999999998 (14.90000000000002)\n",
            "Epoch 088/100 | Loss 0.0074 | Win/lose count 20.0/16.79999999999999 (3.20000000000001)\n",
            "Epoch 089/100 | Loss 0.0104 | Win/lose count 21.0/12.299999999999976 (8.700000000000024)\n",
            "Epoch 090/100 | Loss 0.0081 | Win/lose count 19.5/15.599999999999971 (3.9000000000000288)\n",
            "Epoch 091/100 | Loss 0.0597 | Win/lose count 21.0/15.799999999999974 (5.200000000000026)\n",
            "Epoch 092/100 | Loss 0.0110 | Win/lose count 13.0/17.199999999999974 (-4.199999999999974)\n",
            "Epoch 093/100 | Loss 0.0588 | Win/lose count 25.0/13.799999999999978 (11.200000000000022)\n",
            "Epoch 094/100 | Loss 0.0125 | Win/lose count 22.0/14.699999999999974 (7.300000000000026)\n",
            "Epoch 095/100 | Loss 0.0407 | Win/lose count 11.0/15.699999999999962 (-4.699999999999962)\n",
            "Epoch 096/100 | Loss 0.0129 | Win/lose count 16.0/15.099999999999966 (0.9000000000000341)\n",
            "Epoch 097/100 | Loss 0.0142 | Win/lose count 22.0/12.699999999999982 (9.300000000000018)\n",
            "Epoch 098/100 | Loss 0.0124 | Win/lose count 19.0/12.599999999999975 (6.400000000000025)\n",
            "Epoch 099/100 | Loss 0.0275 | Win/lose count 19.0/13.899999999999967 (5.100000000000033)\n"
          ],
          "name": "stdout"
        },
        {
          "output_type": "execute_result",
          "data": {
            "text/html": [
              "<video alt=\"test\" controls>\n",
              "                <source src=\"data:video/mp4;base64,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\" type=\"video/mp4\" />\n",
              "             </video>"
            ],
            "text/plain": [
              "<IPython.core.display.HTML object>"
            ]
          },
          "metadata": {
            "tags": []
          },
          "execution_count": 20
        }
      ]
    },
    {
      "cell_type": "code",
      "metadata": {
        "id": "nG-Gncc2MvLa",
        "colab_type": "code",
        "outputId": "d72d6257-bcc8-4e29-d3c9-08742be5c838",
        "colab": {
          "base_uri": "https://localhost:8080/",
          "height": 657
        }
      },
      "source": [
        "# Evaluation\n",
        "test(agent,env,epochs_test,prefix='cnn_test_explore')\n",
        "HTML(display_videos('cnn_test_explore10.mp4'))"
      ],
      "execution_count": 0,
      "outputs": [
        {
          "output_type": "stream",
          "text": [
            "Win/lose count 7.5/0. Average score (7.5)\n",
            "Win/lose count 17.0/0. Average score (12.25)\n",
            "Win/lose count 25.0/1.0. Average score (16.166666666666668)\n",
            "Win/lose count 16.5/1.0. Average score (16.0)\n",
            "Win/lose count 24.5/1.0. Average score (17.5)\n",
            "Win/lose count 20.0/1.0. Average score (17.75)\n",
            "Win/lose count 9.0/3.0. Average score (16.071428571428573)\n",
            "Win/lose count 5.5/0. Average score (14.75)\n",
            "Win/lose count 18.0/0. Average score (15.11111111111111)\n",
            "Win/lose count 16.5/0. Average score (15.25)\n",
            "Win/lose count 23.0/1.0. Average score (15.863636363636363)\n",
            "Win/lose count 17.0/0. Average score (15.958333333333334)\n",
            "Win/lose count 16.5/0. Average score (16.0)\n",
            "Win/lose count 11.0/0. Average score (15.642857142857142)\n",
            "Win/lose count 14.5/1.0. Average score (15.5)\n",
            "Win/lose count 21.0/2.0. Average score (15.71875)\n",
            "Win/lose count 16.5/1.0. Average score (15.705882352941176)\n",
            "Win/lose count 11.0/1.0. Average score (15.38888888888889)\n",
            "Win/lose count 5.0/0. Average score (14.842105263157896)\n",
            "Win/lose count 5.0/0. Average score (14.35)\n",
            "Final score: 14.35\n"
          ],
          "name": "stdout"
        },
        {
          "output_type": "execute_result",
          "data": {
            "text/html": [
              "<video alt=\"test\" controls>\n",
              "                <source src=\"data:video/mp4;base64,AAAAIGZ0eXBpc29tAAACAGlzb21pc28yYXZjMW1wNDEAAAAIZnJlZQAAGVxtZGF0AAACrQYF//+p3EXpvebZSLeWLNgg2SPu73gyNjQgLSBjb3JlIDE1MiByMjg1NCBlOWE1OTAzIC0gSC4yNjQvTVBFRy00IEFWQyBjb2RlYyAtIENvcHlsZWZ0IDIwMDMtMjAxNyAtIGh0dHA6Ly93d3cudmlkZW9sYW4ub3JnL3gyNjQuaHRtbCAtIG9wdGlvbnM6IGNhYmFjPTEgcmVmPTMgZGVibG9jaz0xOjA6MCBhbmFseXNlPTB4MToweDExMSBtZT1oZXggc3VibWU9NyBwc3k9MSBwc3lfcmQ9MS4wMDowLjAwIG1peGVkX3JlZj0xIG1lX3JhbmdlPTE2IGNocm9tYV9tZT0xIHRyZWxsaXM9MSA4eDhkY3Q9MCBjcW09MCBkZWFkem9uZT0yMSwxMSBmYXN0X3Bza2lwPTEgY2hyb21hX3FwX29mZnNldD00IHRocmVhZHM9MyBsb29rYWhlYWRfdGhyZWFkcz0xIHNsaWNlZF90aHJlYWRzPTAgbnI9MCBkZWNpbWF0ZT0xIGludGVybGFjZWQ9MCBibHVyYXlfY29tcGF0PTAgY29uc3RyYWluZWRfaW50cmE9MCBiZnJhbWVzPTMgYl9weXJhbWlkPTIgYl9hZGFwdD0xIGJfYmlhcz0wIGRpcmVjdD0xIHdlaWdodGI9MSBvcGVuX2dvcD0wIHdlaWdodHA9MiBrZXlpbnQ9MjUwIGtleWludF9taW49MjUgc2NlbmVjdXQ9NDAgaW50cmFfcmVmcmVzaD0wIHJjX2xvb2thaGVhZD00MCByYz1jcmYgbWJ0cmVlPTEgY3JmPTIzLjAgcWNvbXA9MC42MCBxcG1pbj0wIHFwbWF4PTY5IHFwc3RlcD00IGlwX3JhdGlvPTEuNDAgYXE9MToxLjAwAIAAAAMYZYiEADP//vaG+BTYUyP+T7/8I/+5H7cfWfrixkIJvrVeQ9GAMl8a/5lGYaXpyc8t7R+vTNAEZz6HlLJIofgUkwDfMsjnE+J8s6FP3lFrFWUnapilQooJthtp0b20Oa//NJgO5fPp52d3O6ZHVErXvpvMez61pP04pn08ASCj2gr5ErIPC6yxwK70bsANKKuwooCL4yXvIB+R2EnS6MEj0/OuWlzXcRng9mxakhK+OyqNPRHISj2GjRchukgxMdvIdmEnQ2+NvCsTyZ2FUaVDm3CQVnR/a89BL0pujPhwUFWpyL8WRyJ3BlFB5RvpTjzD/akAmEo+h9THqlgEUiW468vAhR4kXP/IEkBcjGNiXSw6hI6ETg5PgXeLlXd14ebrdEVqAOx+mKn21lf5ZEaOrOA7c5oewDv1ShbUsN3KLi9oxX6x5hLNZkZj6KXC5TOsL9MzjF3V9pZ5zShqG8LH7B6XXbHQYtViZGnnaA3UgoCBqQuHyQBb5w7tmyYRo/RZAzo7ByKObi03rdG6fbrvT2YM6MxTP30mi+tKtAXeWWa29x7V7aFng4aIAOZ8EZ8ljx8MfA7WgEBrO8rwsnR0zbyDsNrAZMCbXhe3IdyoOEbCM+GygXPRT9UHHwYAbeSAPtlfPse/1+vHXsPNyAZJ8OCoC+0xDNOSJmqIDNkbpwryfXVNyDP05CCRxsrufCOFSKeiF6R26xr4Yq/Fd4hRIX+BBg/C7i4IXywmfe0ILc96EAHlAmnIUfiunTJmCc2kPEQGlMUfXohYB4n677TGzimXYULoCIPjCt3PEoHm3yjoaV1G0MDz3igN8TCjF3aDBEziuboI42U0OjvrJbLc1KutHGux1NP1WiJUcTgQbfQGHZYYM6QM1E8uSrnYOF5S35HYUdDjpOEjWfPRWrAsM+wZ5vIknBgqX6HDDgZgIX4wRRfNtWFBYyscf/EoEj1t5Awm3Q6QTRA4YStsFbiiIPhASUTFpKlYINoe4wGgkl54J9b5FG5ktSH57IqK+YCba7bgRzMZpipQhrgn+jeLg2IGNz2mAATFAAAAFUGaIWxDP/6eEAX9LnTYquAyBRq9YAAAABlBmkI8IZMphDP//p4QA8Xrjb3wAbn88crZAAAAHkGaY0nhDyZTAhv//qeEAPyDwovghm3fwDAJr/E3VQAAABhBmoRJ4Q8mUwIb//6nhAD8p4WNchzgz4EAAAAeQZqmSeEPJlMFETw3//6nhACoe6n7VeWz4Ua3RK9lAAAADwGexWpCvwCGyt0o0h4mRwAAABxBmshJ4Q8mUwU8N//+p4QAaf32farZbnBNE+V3AAAAEAGe52pCvwBWW3Iq8AT+8IAAAAAcQZrqSeEPJlMFPDf//qeEACx+6n7mRhbMUI5iVAAAABABnwlqQr8AI7J851oYXopBAAAAH0GbDknhDyZTAhv//qeEABu/YP9J7SHMssTI5AR7c0kAAAAfQZ8sRRE8L/8AEFoEkSZDIzmWUxRjmWAeDmWQcFau6AAAABABn0t0Qr8AFrTqTyvyU3XxAAAAEAGfTWpCvwAPizB5LmfJsYEAAAAaQZtPSahBaJlMCG///qeEABNvjp9RxoSHVsEAAAAbQZtySeEKUmUwIb/+p4QADNurSCET/LZKXKNgAAAAEkGfkEU0TCv/AAqFhXsLBfoLgAAAABABn7FqQr8ACoWPHK/WKXPBAAAAJkGbtEmoQWiZTBTw3/6nhAANj6w3Msrxhn4FMtnZ8ChSn2ebrE/wAAAAEAGf02pCvwALFYR5LmfJ8YAAAAAoQZvXSeEKUmUwIb/+p4QADX2oP95A23MsrnvH4FKls/ApnYGr1PcKeQAAABJBn/VFNEwr/wALE3KFS0S/3IcAAAAQAZ4WakK/AAdtmDyXM+UpgQAAAB1BmhlJqEFomUwU8N/+p4QACXfHT3ebnJ4Hg3SIpwAAABABnjhqQr8AB5lcGuPFW3QgAAAAHUGaO0nhClJlMFLDP/6eEAAlohyrcF5Ownm13jMtAAAAEAGeWmpCvwAHxZ4Q8aGs/YAAAAAcQZpdSeEOiZTBRMM//p4QADh+uXWxw2fiH+NM4QAAABABnnxqQr8ADEAsa95pWgTBAAAAGEGafknhDyZTAhn//p4QAFh4Mc/hzm+uPQAAABdBmp9J4Q8mUwIZ//6eEABYfX5onmUoCAAAABpBmqBJ4Q8mUwIZ//6eEACCnCOfw58QOH+FnwAAABhBmsFJ4Q8mUwIZ//6eEADNyGOfowHZoQ4AAAAYQZriSeEPJlMCGf/+nhAA0q+40Lpvut4dAAAAGEGbA0nhDyZTAhn//p4QANevuNC6b7rd/AAAABlBmyRJ4Q8mUwIb//6nhABWPRP9VwGPxE3BAAAAHkGbRknhDyZTBRE8M//+nhAB+yna3IyCB0wvv8Cf4QAAABABn2VqQr8AbAFjXvNKzcvBAAAAGUGbZ0nhDyZTAhv//qeEAMfSJ/qt8x+IQcEAAAAfQZuJSeEPJlMFETw3//6nhAJh0ZD1In2fGKwGz7ziYAAAABABn6hqQr8BiXajlf24fNBAAAAAGEGbqknhDyZTAhv//qeEAoe9/nmD/H/TFwAAABxBm85J4Q8mUwIb//6nhAzrWkFDGD+jRY5bwfO6AAAAFUGf7EURPC//AgEbxT9cbIjQUqG/UgAAABABngt0Qr8CsEAc7YxNqkjBAAAADwGeDWpCvwKQVoYHTUjlnwAAABpBmg9JqEFomUwIb//+p4QBNfjp9RxoSHBWwQAAABhBmjJJ4QpSZTAhv/6nhADI+wevZnwRXVsAAAAPQZ5QRTRMK/8Ao7W4a2VAAAAAEAGecWpCvwCdWUd7PH26zIEAAAAeQZp0SahBaJlMFPDf/qeEASQfNU1m3NeOnwhnOFccAAAAEAGek2pCvwDtM+Y3Q5IOKDgAAAAYQZqVSeEKUmUwIb/+p4QBJfo5oK1mU1knAAAAJUGauUnhDomUwIZ//p4QB2+yOrzLLGFT8yyYOA8yt+Qz62PhobMAAAAQQZ7XRRE8L/8A/s/c4WT62QAAAA8BnvZ0Qr8BbOgHQnJdvCEAAAAQAZ74akK/AWOyITcZ9empOAAAABxBmvpJqEFomUwIb//+p4QB8e1UCE/veDIUIknBAAAAHUGbHEnhClJlMFESw3/+p4QBFfjp9zIwtmKEcufMAAAAEAGfO2pCvwDiAvOdaGF4jcEAAAAmQZs+SeEOiZTBRMN//qeEALF7qfu1p0cyyvGEfgUy2cnwKFJby8kAAAAQAZ9dakK/AI7LIYfQEg4t6AAAABtBm0BJ4Q8mUwU8M//+nhABxEI8cQ/iq8/+xAgAAAAQAZ9/akK/AF+JbTrwBP7cgQAAABlBm2FJ4Q8mUwIb//6nhAAyLq0ghE/y2/WAAAAAGUGbgknhDyZTAhv//qeEADJ+wf4Tgt0JccEAAAAeQZukSeEPJlMFETw3//6nhAAg30c+O28RMzU26Q2BAAAAEAGfw2pCvwAbBm5rjxVtTCEAAAAcQZvGSeEPJlMFPDf//qeEABWvdT91pZmpt0W4GQAAABABn+VqQr8AEdzRvNMVbWbBAAAAHEGb6EnhDyZTBTw3//6nhAAON7B/nkFapkJFxRkAAAAQAZ4HakK/AAujchh9ASDs2AAAABlBmglJ4Q8mUwIb//6nhAAJd8dPqONCQ9lAAAAAHEGaLUnhDyZTAhn//p4QABf/X36bXuY5zpsVPzkAAAAQQZ5LRRE8L/8AA5/3nkXVSAAAABABnmp0Qr8ABPk5jgPs5nhgAAAADwGebGpCvwAE1ta7vu+8wQAAABlBmm5JqEFomUwIb//+p4QAA8/sHr2Z8EaHAAAAGUGaj0nhClJlMCG//qeEAAO577Mf4fVugIEAAAAXQZqzSeEOiZTAhn/+nhAADcr7riPrSLwAAAAOQZ7RRRE8L/8AAhufmpAAAAAQAZ7wdEK/AASYQBz+tA6QwQAAAA8BnvJqQr8AAvOcm6z1aUcAAAAbQZr0SahBaJlMCGf//p4QABYeDHP4c+IHD/G3AAAAGEGbFUnhClJlMCG//qeEAAiqALNsYoTxwQAAAB1BmzdJ4Q6JlMFNEw3//qeEAA0rq2Yn+rt7qftf2AAAABABn1ZqQr8ACxYOu4fbNqJxAAAAGkGbWEnhDyZTAhv//qeEABRvRP9VvqoYn7vLAAAAGUGbfEnhDyZTAhn//p4QAE/9032lWT5ebs4AAAAQQZ+aRRE8L/8ADEKu7/OIMQAAAA8Bn7l0Qr8AGcsq7vN29kAAAAAQAZ+7akK/ABBZPnOtDC+LgQAAABpBm71JqEFomUwIb//+p4QADO+wf4Tgt0KuwQAAABpBm8BJ4QpSZTAhn/6eEAAf3193ac3b5AHhPwAAABJBn/5FNEwr/wAGwI9EApgHXGAAAAAQAZ4fakK/AAaZ24TcZ9euJQAAABlBmgFJqEFomUwIZ//+nhAAHy9fd2nN3F66AAAAGUGaIknhClJlMCG//qeEAAfL2D/CcFuhesEAAAAYQZpDSeEOiZTAhv/+p4QABSPdTj/D6tyTAAAAGUGaZ0nhDyZTAhv//qeEAAef2D/NX+wzbykAAAAQQZ6FRRE8L/8ABJc/QbzSUQAAABABnqR0Qr8AA+6wDfgA+7GhAAAAEAGepmpCvwAGSSti9XYc+UEAAAAZQZqoSahBaJlMCG///qeEAAT/3U4/w+rcmwAAAB1BmstJ4QpSZTAhn/6eEAAS74uH60cvcj7G7K6qvAAAABNBnulFNEwr/wAD4gwCAUv+SaDBAAAAEAGfCmpCvwADzM+Y3Q5IQHgAAAAbQZsMSahBaJlMCG///qeEAAS76XQxOvZnwRlOAAAAHkGbLknhClJlMFESw3/+p4QACw+jIeo9lzvN2D+l+QAAABABn01qQr8ACO7PHK/txFDBAAAAHEGbUEnhDomUwUTDP/6eEABDRDlW4LztfX329zEAAAAQAZ9vakK/AA4rPCHjQ1lvgAAAABlBm3FJ4Q8mUwIb//6nhAAa+kT/Vb5j8T0gAAAAHkGbk0nhDyZTBRE8M//+nhAApHxOzrdcRz+h13un+QAAABABn7JqQr8AIb067h9s2lVQAAAAG0GbtUnhDyZTBTwz//6eEAF9kNrf5Q/r77s5QAAAABABn9RqQr8AT6x45X9uH4LBAAAAGEGb1knhDyZTAhn//p4QAkpwjn8Oc31mDgAAABhBm/dJ4Q8mUwIZ//6eEAOEU45/DnN9ZVsAAAAYQZoYSeEPJlMCGf/+nhAFmKcc/deo+o29AAAAG0GaOUnhDyZTAhv//qeEA5KGf6hlLoEJ/VJgQAAAABhBmlpJ4Q8mUwIb//6nhAPYPCnXnPza8W0AAAAeQZp8SeEPJlMFETw3//6nhARLsx9aW488zU26NeR8AAAAEAGem2pCvwHfDwa48KbOryEAAAAeQZqfSeEPJlMCG//+p4QBkfHT7MV5bPApsjBJk9CBAAAAE0GevUURPCv/ATaV0VWeaZr0ZUAAAAAQAZ7eakK/AM2lbFhrDJIA4AAAABpBmsBJqEFomUwId//+qZYAUv31fXYg3FP90QAAABJBmuRJ4QpSZTAh3/6plgAAlYAAAAAjQZ8CRTRML/8APjEtsvMu4Spd//iEBAZZ//iBjtWf/n/qIrEAAAAQAZ8hdEK/AFZTqTyvyU2i8AAAABABnyNqQr8AVmyITcZ9enF5AAAAGkGbJ0moQWiZTAh3//6plgA1XtLwtQT+wEDBAAAAEkGfRUURLCv/AFZbAEApgHIwQQAAABABn2ZqQr8AVCyITcZ9enG5AAAAHUGbakmoQWyZTAh3//6plgB3R1CyYDuPr9HPTdNAAAAAEkGfiEUVLCv/AMO7ZvAUj69yFwAAABABn6lqQr8Aw7tRyv7cPpBBAAAAE0GbrkmoQWyZTAh3//6plgAAlYAAAAATQZ/MRRUsL/8A13rljNuJ0x8/PgAAABABn+t0Qr8BJvUSJ8WYo1ZRAAAAEAGf7WpCvwEmlkMPoCQcTZkAAAATQZvySahBbJlMCHf//qmWAACVgQAAABBBnhBFFSwv/wDXxLc/XEUXAAAAEAGeL3RCvwEm9RInxZijVlAAAAAQAZ4xakK/ASaWQw+gJBxNmQAAABNBmjZJqEFsmUwId//+qZYAAJWAAAAAEEGeVEUVLC//ANfEtz9cRRcAAAAQAZ5zdEK/ASb1EifFmKNWUQAAABABnnVqQr8BJpZDD6AkHE2YAAAAE0GaekmoQWyZTAh3//6plgAAlYEAAAAQQZ6YRRUsL/8A18S3P1xFFwAAABABnrd0Qr8BJvUSJ8WYo1ZQAAAAEAGeuWpCvwEmlkMPoCQcTZkAAAATQZq+SahBbJlMCHf//qmWAACVgAAAABBBntxFFSwv/wDXxLc/XEUXAAAAEAGe+3RCvwEm9RInxZijVlEAAAAQAZ79akK/ASaWQw+gJBxNmAAAABNBmuJJqEFsmUwId//+qZYAAJWAAAAAEEGfAEUVLC//ANfEtz9cRRcAAAAQAZ8/dEK/ASb1EifFmKNWUAAAABABnyFqQr8BJpZDD6AkHE2ZAAAAE0GbJkmoQWyZTAh3//6plgAAlYAAAAAQQZ9ERRUsL/8A18S3P1xFFwAAABABn2N0Qr8BJvUSJ8WYo1ZRAAAAEAGfZWpCvwEmlkMPoCQcTZkAAAATQZtqSahBbJlMCHf//qmWAACVgQAAABBBn4hFFSwv/wDXxLc/XEUXAAAAEAGfp3RCvwEm9RInxZijVlAAAAAQAZ+pakK/ASaWQw+gJBxNmQAAABNBm65JqEFsmUwId//+qZYAAJWAAAAAEEGfzEUVLC//ANfEtz9cRRcAAAAQAZ/rdEK/ASb1EifFmKNWUQAAABABn+1qQr8BJpZDD6AkHE2ZAAAAE0Gb8kmoQWyZTAh3//6plgAAlYEAAAAQQZ4QRRUsL/8A18S3P1xFFwAAABABni90Qr8BJvUSJ8WYo1ZQAAAAEAGeMWpCvwEmlkMPoCQcTZkAAAATQZo2SahBbJlMCHf//qmWAACVgAAAABBBnlRFFSwv/wDXxLc/XEUXAAAAEAGec3RCvwEm9RInxZijVlEAAAAQAZ51akK/ASaWQw+gJBxNmAAAABNBmnpJqEFsmUwId//+qZYAAJWBAAAAEEGemEUVLC//ANfEtz9cRRcAAAAQAZ63dEK/ASb1EifFmKNWUAAAABABnrlqQr8BJpZDD6AkHE2ZAAAAE0GavkmoQWyZTAh3//6plgAAlYAAAAAQQZ7cRRUsL/8A18S3P1xFFwAAABABnvt0Qr8BJvUSJ8WYo1ZRAAAAEAGe/WpCvwEmlkMPoCQcTZgAAAASQZriSahBbJlMCG///qeEAAEnAAAAEEGfAEUVLC//ANfEtz9cRRcAAAAQAZ8/dEK/ASb1EifFmKNWUAAAABABnyFqQr8BJpZDD6AkHE2ZAAAAEkGbJkmoQWyZTAhn//6eEAAEfAAAABBBn0RFFSwv/wDXxLc/XEUXAAAAEAGfY3RCvwEm9RInxZijVlEAAAAQAZ9lakK/ASaWQw+gJBxNmQAAABpBm2lLqEIQWyRGCCgH8gH9h4AhX/44QAARcQAAACZBn4dFFSwr/wKvY+1BxN2qw0km5aqGC4PdInsOOBhZzO02vZdHzAAAACMBn6hqQr8Cr2PtQcTdqsNJJuWqh6l5El37DP8MTeebedgGFgAAC6htb292AAAAbG12aGQAAAAAAAAAAAAAAAAAAAPoAAAfkAABAAABAAAAAAAAAAAAAAAAAQAAAAAAAAAAAAAAAAAAAAEAAAAAAAAAAAAAAAAAAEAAAAAAAAAAAAAAAAAAAAAAAAAAAAAAAAAAAAAAAAACAAAK0nRyYWsAAABcdGtoZAAAAAMAAAAAAAAAAAAAAAEAAAAAAAAfkAAAAAAAAAAAAAAAAAAAAAAAAQAAAAAAAAAAAAAAAAAAAAEAAAAAAAAAAAAAAAAAAEAAAAABEAAAARAAAAAAACRlZHRzAAAAHGVsc3QAAAAAAAAAAQAAH5AAAAQAAAEAAAAACkptZGlhAAAAIG1kaGQAAAAAAAAAAAAAAAAAADIAAAGUAFXEAAAAAAAtaGRscgAAAAAAAAAAdmlkZQAAAAAAAAAAAAAAAFZpZGVvSGFuZGxlcgAAAAn1bWluZgAAABR2bWhkAAAAAQAAAAAAAAAAAAAAJGRpbmYAAAAcZHJlZgAAAAAAAAABAAAADHVybCAAAAABAAAJtXN0YmwAAACVc3RzZAAAAAAAAAABAAAAhWF2YzEAAAAAAAAAAQAAAAAAAAAAAAAAAAAAAAABEAEQAEgAAABIAAAAAAAAAAEAAAAAAAAAAAAAAAAAAAAAAAAAAAAAAAAAAAAAAAAAAAAY//8AAAAvYXZjQwH0AA3/4QAXZ/QADZGbKCIR0IAAAAMAgAAAGQeKFMsBAAVo6+PESAAAABhzdHRzAAAAAAAAAAEAAADKAAACAAAAABRzdHNzAAAAAAAAAAEAAAABAAAFgGN0dHMAAAAAAAAArgAAAAUAAAQAAAAAAQAABgAAAAABAAACAAAAAAEAAAYAAAAAAQAAAgAAAAABAAAGAAAAAAEAAAIAAAAAAQAACgAAAAABAAAEAAAAAAEAAAAAAAAAAQAAAgAAAAABAAAEAAAAAAEAAAgAAAAAAgAAAgAAAAABAAAGAAAAAAEAAAIAAAAAAQAACAAAAAACAAACAAAAAAEAAAYAAAAAAQAAAgAAAAABAAAGAAAAAAEAAAIAAAAAAQAABgAAAAABAAACAAAAAAcAAAQAAAAAAQAABgAAAAABAAACAAAAAAEAAAQAAAAAAQAABgAAAAABAAACAAAAAAEAAAQAAAAAAQAACgAAAAABAAAEAAAAAAEAAAAAAAAAAQAAAgAAAAABAAAEAAAAAAEAAAgAAAAAAgAAAgAAAAABAAAGAAAAAAEAAAIAAAAAAQAABAAAAAABAAAKAAAAAAEAAAQAAAAAAQAAAAAAAAABAAACAAAAAAEAAAQAAAAAAQAABgAAAAABAAACAAAAAAEAAAYAAAAAAQAAAgAAAAABAAAGAAAAAAEAAAIAAAAAAgAABAAAAAABAAAGAAAAAAEAAAIAAAAAAQAABgAAAAABAAACAAAAAAEAAAYAAAAAAQAAAgAAAAABAAAEAAAAAAEAAAoAAAAAAQAABAAAAAABAAAAAAAAAAEAAAIAAAAAAgAABAAAAAABAAAKAAAAAAEAAAQAAAAAAQAAAAAAAAABAAACAAAAAAIAAAQAAAAAAQAABgAAAAABAAACAAAAAAEAAAQAAAAAAQAACgAAAAABAAAEAAAAAAEAAAAAAAAAAQAAAgAAAAABAAAEAAAAAAEAAAgAAAAAAgAAAgAAAAADAAAEAAAAAAEAAAoAAAAAAQAABAAAAAABAAAAAAAAAAEAAAIAAAAAAQAABAAAAAABAAAIAAAAAAIAAAIAAAAAAQAABAAAAAABAAAGAAAAAAEAAAIAAAAAAQAABgAAAAABAAACAAAAAAEAAAQAAAAAAQAABgAAAAABAAACAAAAAAEAAAYAAAAAAQAAAgAAAAAFAAAEAAAAAAEAAAYAAAAAAQAAAgAAAAABAAAIAAAAAAIAAAIAAAAAAQAABAAAAAABAAAKAAAAAAEAAAQAAAAAAQAAAAAAAAABAAACAAAAAAEAAAgAAAAAAgAAAgAAAAABAAAIAAAAAAIAAAIAAAAAAQAACgAAAAABAAAEAAAAAAEAAAAAAAAAAQAAAgAAAAABAAAKAAAAAAEAAAQAAAAAAQAAAAAAAAABAAACAAAAAAEAAAoAAAAAAQAABAAAAAABAAAAAAAAAAEAAAIAAAAAAQAACgAAAAABAAAEAAAAAAEAAAAAAAAAAQAAAgAAAAABAAAKAAAAAAEAAAQAAAAAAQAAAAAAAAABAAACAAAAAAEAAAoAAAAAAQAABAAAAAABAAAAAAAAAAEAAAIAAAAAAQAACgAAAAABAAAEAAAAAAEAAAAAAAAAAQAAAgAAAAABAAAKAAAAAAEAAAQAAAAAAQAAAAAAAAABAAACAAAAAAEAAAoAAAAAAQAABAAAAAABAAAAAAAAAAEAAAIAAAAAAQAACgAAAAABAAAEAAAAAAEAAAAAAAAAAQAAAgAAAAABAAAKAAAAAAEAAAQAAAAAAQAAAAAAAAABAAACAAAAAAEAAAoAAAAAAQAABAAAAAABAAAAAAAAAAEAAAIAAAAAAQAACgAAAAABAAAEAAAAAAEAAAAAAAAAAQAAAgAAAAABAAAKAAAAAAEAAAQAAAAAAQAAAAAAAAABAAACAAAAAAEAAAoAAAAAAQAABAAAAAABAAAAAAAAAAEAAAIAAAAAAQAACAAAAAACAAACAAAAABxzdHNjAAAAAAAAAAEAAAABAAAAygAAAAEAAAM8c3RzegAAAAAAAAAAAAAAygAABc0AAAAZAAAAHQAAACIAAAAcAAAAIgAAABMAAAAgAAAAFAAAACAAAAAUAAAAIwAAACMAAAAUAAAAFAAAAB4AAAAfAAAAFgAAABQAAAAqAAAAFAAAACwAAAAWAAAAFAAAACEAAAAUAAAAIQAAABQAAAAgAAAAFAAAABwAAAAbAAAAHgAAABwAAAAcAAAAHAAAAB0AAAAiAAAAFAAAAB0AAAAjAAAAFAAAABwAAAAgAAAAGQAAABQAAAATAAAAHgAAABwAAAATAAAAFAAAACIAAAAUAAAAHAAAACkAAAAUAAAAEwAAABQAAAAgAAAAIQAAABQAAAAqAAAAFAAAAB8AAAAUAAAAHQAAAB0AAAAiAAAAFAAAACAAAAAUAAAAIAAAABQAAAAdAAAAIAAAABQAAAAUAAAAEwAAAB0AAAAdAAAAGwAAABIAAAAUAAAAEwAAAB8AAAAcAAAAIQAAABQAAAAeAAAAHQAAABQAAAATAAAAFAAAAB4AAAAeAAAAFgAAABQAAAAdAAAAHQAAABwAAAAdAAAAFAAAABQAAAAUAAAAHQAAACEAAAAXAAAAFAAAAB8AAAAiAAAAFAAAACAAAAAUAAAAHQAAACIAAAAUAAAAHwAAABQAAAAcAAAAHAAAABwAAAAfAAAAHAAAACIAAAAUAAAAIgAAABcAAAAUAAAAHgAAABYAAAAnAAAAFAAAABQAAAAeAAAAFgAAABQAAAAhAAAAFgAAABQAAAAXAAAAFwAAABQAAAAUAAAAFwAAABQAAAAUAAAAFAAAABcAAAAUAAAAFAAAABQAAAAXAAAAFAAAABQAAAAUAAAAFwAAABQAAAAUAAAAFAAAABcAAAAUAAAAFAAAABQAAAAXAAAAFAAAABQAAAAUAAAAFwAAABQAAAAUAAAAFAAAABcAAAAUAAAAFAAAABQAAAAXAAAAFAAAABQAAAAUAAAAFwAAABQAAAAUAAAAFAAAABcAAAAUAAAAFAAAABQAAAAXAAAAFAAAABQAAAAUAAAAFgAAABQAAAAUAAAAFAAAABYAAAAUAAAAFAAAABQAAAAeAAAAKgAAACcAAAAUc3RjbwAAAAAAAAABAAAAMAAAAGJ1ZHRhAAAAWm1ldGEAAAAAAAAAIWhkbHIAAAAAAAAAAG1kaXJhcHBsAAAAAAAAAAAAAAAALWlsc3QAAAAlqXRvbwAAAB1kYXRhAAAAAQAAAABMYXZmNTcuODMuMTAw\" type=\"video/mp4\" />\n",
              "             </video>"
            ],
            "text/plain": [
              "<IPython.core.display.HTML object>"
            ]
          },
          "metadata": {
            "tags": []
          },
          "execution_count": 21
        }
      ]
    },
    {
      "cell_type": "markdown",
      "metadata": {
        "id": "XByCzAVnMvLf",
        "colab_type": "text"
      },
      "source": [
        "***\n",
        "***\n",
        "__BONUS question__ Use the expert DQN from the previous question to generate some winning games. Train a model that mimicks its behavior. Compare the performances."
      ]
    },
    {
      "cell_type": "markdown",
      "metadata": {
        "id": "U5tE6NtLMvLg",
        "colab_type": "text"
      },
      "source": [
        ""
      ]
    },
    {
      "cell_type": "markdown",
      "metadata": {
        "id": "LIZA9KYBMvLh",
        "colab_type": "text"
      },
      "source": [
        "***"
      ]
    }
  ]
}